{
  "nbformat": 4,
  "nbformat_minor": 0,
  "metadata": {
    "colab": {
      "provenance": [],
      "authorship_tag": "ABX9TyPVaohy9HQ/EcKnkJO0k5/m",
      "include_colab_link": true
    },
    "kernelspec": {
      "name": "python3",
      "display_name": "Python 3"
    },
    "language_info": {
      "name": "python"
    }
  },
  "cells": [
    {
      "cell_type": "markdown",
      "metadata": {
        "id": "view-in-github",
        "colab_type": "text"
      },
      "source": [
        "<a href=\"https://colab.research.google.com/github/gyunini/2022S-ML-/blob/main/ML_Project.ipynb\" target=\"_parent\"><img src=\"https://colab.research.google.com/assets/colab-badge.svg\" alt=\"Open In Colab\"/></a>"
      ]
    },
    {
      "cell_type": "code",
      "source": [
        "from google.colab import drive\n",
        "drive.mount('/content/drive')"
      ],
      "metadata": {
        "colab": {
          "base_uri": "https://localhost:8080/"
        },
        "id": "cWRmrPMwX1lG",
        "outputId": "8d63a7cc-daf4-4a64-8e9d-bf03939e9653"
      },
      "execution_count": null,
      "outputs": [
        {
          "output_type": "stream",
          "name": "stdout",
          "text": [
            "Mounted at /content/drive\n"
          ]
        }
      ]
    },
    {
      "cell_type": "code",
      "source": [
        "cd drive"
      ],
      "metadata": {
        "colab": {
          "base_uri": "https://localhost:8080/"
        },
        "id": "Qnb399qPRxqT",
        "outputId": "7d5cb587-0f9e-4aa1-dfc4-0e5c0934f3d0"
      },
      "execution_count": null,
      "outputs": [
        {
          "output_type": "stream",
          "name": "stdout",
          "text": [
            "/content/drive\n"
          ]
        }
      ]
    },
    {
      "cell_type": "code",
      "source": [
        "ls"
      ],
      "metadata": {
        "colab": {
          "base_uri": "https://localhost:8080/"
        },
        "id": "JfgomR6_X_hR",
        "outputId": "de9193e6-e91f-484e-b97e-e080c37074ea"
      },
      "execution_count": null,
      "outputs": [
        {
          "output_type": "stream",
          "name": "stdout",
          "text": [
            "\u001b[0m\u001b[01;34mMyDrive\u001b[0m/  \u001b[01;34mShareddrives\u001b[0m/\n"
          ]
        }
      ]
    },
    {
      "cell_type": "code",
      "source": [
        "cd MyDrive/"
      ],
      "metadata": {
        "colab": {
          "base_uri": "https://localhost:8080/"
        },
        "id": "XTAA90BDYAzz",
        "outputId": "defa0654-0986-456d-e55b-c8e6e4d73954"
      },
      "execution_count": null,
      "outputs": [
        {
          "output_type": "stream",
          "name": "stdout",
          "text": [
            "/content/drive/MyDrive\n"
          ]
        }
      ]
    },
    {
      "cell_type": "code",
      "source": [
        "cd ML_project/"
      ],
      "metadata": {
        "colab": {
          "base_uri": "https://localhost:8080/"
        },
        "id": "3jEJfaxDYFCp",
        "outputId": "77433b27-9d3b-47ab-cf55-ae38ad18471a"
      },
      "execution_count": null,
      "outputs": [
        {
          "output_type": "stream",
          "name": "stdout",
          "text": [
            "/content/drive/MyDrive/ML_project\n"
          ]
        }
      ]
    },
    {
      "cell_type": "code",
      "source": [
        "ls"
      ],
      "metadata": {
        "colab": {
          "base_uri": "https://localhost:8080/"
        },
        "id": "JeMb0ywLYIBz",
        "outputId": "08341d46-23ba-4d3a-bb93-9b164aca776c"
      },
      "execution_count": null,
      "outputs": [
        {
          "output_type": "stream",
          "name": "stdout",
          "text": [
            "\u001b[0m\u001b[01;34m'기게학습 보고서 피피티'\u001b[0m/  'KF (29).csv'     'OLLIE (22).csv'\n",
            "'=4.0.0'                   'KF (2).csv'      'OLLIE (23).csv'\n",
            "'FS180 (10).csv'           'KF (30).csv'     'OLLIE (24).csv'\n",
            "'FS180 (11).csv'           'KF (3).csv'      'OLLIE (25).csv'\n",
            "'FS180 (12).csv'           'KF (4).csv'      'OLLIE (26).csv'\n",
            "'FS180 (13).csv'           'KF (5).csv'      'OLLIE (27).csv'\n",
            "'FS180 (14).csv'           'KF (6).csv'      'OLLIE (28).csv'\n",
            "'FS180 (15).csv'           'KF (7).csv'      'OLLIE (29).csv'\n",
            "'FS180 (16).csv'           'KF (8).csv'      'OLLIE (2).csv'\n",
            "'FS180 (17).csv'           'KF (9).csv'      'OLLIE (30).csv'\n",
            "'FS180 (18).csv'           'NFS (10).csv'    'OLLIE (3).csv'\n",
            "'FS180 (19).csv'           'NFS (11).csv'    'OLLIE (4).csv'\n",
            "'FS180 (1).csv'            'NFS (12).csv'    'OLLIE (5).csv'\n",
            "'FS180 (20).csv'           'NFS (13).csv'    'OLLIE (6).csv'\n",
            "'FS180 (21).csv'           'NFS (14).csv'    'OLLIE (7).csv'\n",
            "'FS180 (22).csv'           'NFS (15).csv'    'OLLIE (8).csv'\n",
            "'FS180 (23).csv'           'NFS (16).csv'    'OLLIE (9).csv'\n",
            "'FS180 (24).csv'           'NFS (17).csv'    'PS (10).csv'\n",
            "'FS180 (25).csv'           'NFS (18).csv'    'PS (11).csv'\n",
            "'FS180 (26).csv'           'NFS (19).csv'    'PS (12).csv'\n",
            "'FS180 (27).csv'           'NFS (1).csv'     'PS (13).csv'\n",
            "'FS180 (28).csv'           'NFS (20).csv'    'PS (14).csv'\n",
            "'FS180 (29).csv'           'NFS (21).csv'    'PS (15).csv'\n",
            "'FS180 (2).csv'            'NFS (22).csv'    'PS (16).csv'\n",
            "'FS180 (30).csv'           'NFS (23).csv'    'PS (17).csv'\n",
            "'FS180 (3).csv'            'NFS (24).csv'    'PS (18).csv'\n",
            "'FS180 (4).csv'            'NFS (25).csv'    'PS (19).csv'\n",
            "'FS180 (5).csv'            'NFS (26).csv'    'PS (1).csv'\n",
            "'FS180 (6).csv'            'NFS (27).csv'    'PS (20).csv'\n",
            "'FS180 (7).csv'            'NFS (28).csv'    'PS (21).csv'\n",
            "'FS180 (8).csv'            'NFS (29).csv'    'PS (22).csv'\n",
            "'FS180 (9).csv'            'NFS (2).csv'     'PS (23).csv'\n",
            " \u001b[01;34mimages\u001b[0m/                   'NFS (30).csv'    'PS (24).csv'\n",
            "'KF (10).csv'              'NFS (3).csv'     'PS (25).csv'\n",
            "'KF (11).csv'              'NFS (4).csv'     'PS (26).csv'\n",
            "'KF (12).csv'              'NFS (5).csv'     'PS (27).csv'\n",
            "'KF (13).csv'              'NFS (6).csv'     'PS (28).csv'\n",
            "'KF (14).csv'              'NFS (7).csv'     'PS (29).csv'\n",
            "'KF (15).csv'              'NFS (8).csv'     'PS (2).csv'\n",
            "'KF (16).csv'              'NFS (9).csv'     'PS (30).csv'\n",
            "'KF (17).csv'              'OLLIE (10).csv'  'PS (3).csv'\n",
            "'KF (18).csv'              'OLLIE (11).csv'  'PS (4).csv'\n",
            "'KF (19).csv'              'OLLIE (12).csv'  'PS (5).csv'\n",
            "'KF (1).csv'               'OLLIE (13).csv'  'PS (6).csv'\n",
            "'KF (20).csv'              'OLLIE (14).csv'  'PS (7).csv'\n",
            "'KF (21).csv'              'OLLIE (15).csv'  'PS (8).csv'\n",
            "'KF (22).csv'              'OLLIE (16).csv'  'PS (9).csv'\n",
            "'KF (23).csv'              'OLLIE (17).csv'   RAW-MobileNet-SVM.pkl\n",
            "'KF (24).csv'              'OLLIE (18).csv'   RAW-MobileNet-x_val.dat\n",
            "'KF (25).csv'              'OLLIE (19).csv'   RAW-MobileNet-y_val.dat\n",
            "'KF (26).csv'              'OLLIE (1).csv'    Untitled0.ipynb\n",
            "'KF (27).csv'              'OLLIE (20).csv'\n",
            "'KF (28).csv'              'OLLIE (21).csv'\n"
          ]
        }
      ]
    },
    {
      "cell_type": "code",
      "source": [
        "import numpy as np\n",
        "import pandas as pd\n",
        "import plotly.graph_objects as go\n",
        "from plotly.subplots import make_subplots"
      ],
      "metadata": {
        "id": "9qIvHYmhYNbY"
      },
      "execution_count": null,
      "outputs": []
    },
    {
      "cell_type": "code",
      "source": [
        "%%capture\n",
        "!pip install kaleido\n",
        "!pip install plotly>=4.0.0\n",
        "!wget https://github.com/plotly/orca/releases/download/v1.2.1/orca-1.2.1-x86_64.AppImage -O /usr/local/bin/orca\n",
        "!chmod +x /usr/local/bin/orca\n",
        "!apt-get install xvfb libgtk2.0-0 libgconf-2-4"
      ],
      "metadata": {
        "id": "ZGMl_fcUSzwF"
      },
      "execution_count": null,
      "outputs": []
    },
    {
      "cell_type": "code",
      "source": [
        "import pandas as pd\n",
        "import os\n",
        "path_pre = \"/content/drive/MyDrive/ML_project\"\n",
        "Inf = 999999999\n",
        "mInf = -999999999\n",
        "min = [Inf,Inf,Inf,Inf,Inf,Inf]\n",
        "max = [mInf,mInf,mInf,mInf,mInf,mInf]\n",
        "for filename in os.listdir(path_pre):\n",
        "    if filename == \"images\":\n",
        "        continue\n",
        "    if filename == \"Untitled0.ipynb\":\n",
        "      continue\n",
        "    path = path_pre + filename\n",
        "    df = pd.read_csv(path)\n",
        "    for i in range(6):\n",
        "        if max[i] < df.max(axis=0)[i]:\n",
        "            max[i] = df.max(axis=0)[i]\n",
        "        if min[i] > df.min(axis=0)[i]:\n",
        "            min[i] = df.min(axis=0)[i]\n",
        "\n",
        "print(min)\n",
        "print(max)"
      ],
      "metadata": {
        "colab": {
          "base_uri": "https://localhost:8080/",
          "height": 408
        },
        "id": "U3_Necl2Zp3C",
        "outputId": "5c16502e-e771-47e8-8c00-dca60275c14c"
      },
      "execution_count": null,
      "outputs": [
        {
          "output_type": "error",
          "ename": "FileNotFoundError",
          "evalue": "ignored",
          "traceback": [
            "\u001b[0;31m---------------------------------------------------------------------------\u001b[0m",
            "\u001b[0;31mFileNotFoundError\u001b[0m                         Traceback (most recent call last)",
            "\u001b[0;32m<ipython-input-15-7bb1dae984c8>\u001b[0m in \u001b[0;36m<module>\u001b[0;34m()\u001b[0m\n\u001b[1;32m     12\u001b[0m       \u001b[0;32mcontinue\u001b[0m\u001b[0;34m\u001b[0m\u001b[0;34m\u001b[0m\u001b[0m\n\u001b[1;32m     13\u001b[0m     \u001b[0mpath\u001b[0m \u001b[0;34m=\u001b[0m \u001b[0mpath_pre\u001b[0m \u001b[0;34m+\u001b[0m \u001b[0mfilename\u001b[0m\u001b[0;34m\u001b[0m\u001b[0;34m\u001b[0m\u001b[0m\n\u001b[0;32m---> 14\u001b[0;31m     \u001b[0mdf\u001b[0m \u001b[0;34m=\u001b[0m \u001b[0mpd\u001b[0m\u001b[0;34m.\u001b[0m\u001b[0mread_csv\u001b[0m\u001b[0;34m(\u001b[0m\u001b[0mpath\u001b[0m\u001b[0;34m)\u001b[0m\u001b[0;34m\u001b[0m\u001b[0;34m\u001b[0m\u001b[0m\n\u001b[0m\u001b[1;32m     15\u001b[0m     \u001b[0;32mfor\u001b[0m \u001b[0mi\u001b[0m \u001b[0;32min\u001b[0m \u001b[0mrange\u001b[0m\u001b[0;34m(\u001b[0m\u001b[0;36m6\u001b[0m\u001b[0;34m)\u001b[0m\u001b[0;34m:\u001b[0m\u001b[0;34m\u001b[0m\u001b[0;34m\u001b[0m\u001b[0m\n\u001b[1;32m     16\u001b[0m         \u001b[0;32mif\u001b[0m \u001b[0mmax\u001b[0m\u001b[0;34m[\u001b[0m\u001b[0mi\u001b[0m\u001b[0;34m]\u001b[0m \u001b[0;34m<\u001b[0m \u001b[0mdf\u001b[0m\u001b[0;34m.\u001b[0m\u001b[0mmax\u001b[0m\u001b[0;34m(\u001b[0m\u001b[0maxis\u001b[0m\u001b[0;34m=\u001b[0m\u001b[0;36m0\u001b[0m\u001b[0;34m)\u001b[0m\u001b[0;34m[\u001b[0m\u001b[0mi\u001b[0m\u001b[0;34m]\u001b[0m\u001b[0;34m:\u001b[0m\u001b[0;34m\u001b[0m\u001b[0;34m\u001b[0m\u001b[0m\n",
            "\u001b[0;32m/usr/local/lib/python3.7/dist-packages/pandas/util/_decorators.py\u001b[0m in \u001b[0;36mwrapper\u001b[0;34m(*args, **kwargs)\u001b[0m\n\u001b[1;32m    309\u001b[0m                     \u001b[0mstacklevel\u001b[0m\u001b[0;34m=\u001b[0m\u001b[0mstacklevel\u001b[0m\u001b[0;34m,\u001b[0m\u001b[0;34m\u001b[0m\u001b[0;34m\u001b[0m\u001b[0m\n\u001b[1;32m    310\u001b[0m                 )\n\u001b[0;32m--> 311\u001b[0;31m             \u001b[0;32mreturn\u001b[0m \u001b[0mfunc\u001b[0m\u001b[0;34m(\u001b[0m\u001b[0;34m*\u001b[0m\u001b[0margs\u001b[0m\u001b[0;34m,\u001b[0m \u001b[0;34m**\u001b[0m\u001b[0mkwargs\u001b[0m\u001b[0;34m)\u001b[0m\u001b[0;34m\u001b[0m\u001b[0;34m\u001b[0m\u001b[0m\n\u001b[0m\u001b[1;32m    312\u001b[0m \u001b[0;34m\u001b[0m\u001b[0m\n\u001b[1;32m    313\u001b[0m         \u001b[0;32mreturn\u001b[0m \u001b[0mwrapper\u001b[0m\u001b[0;34m\u001b[0m\u001b[0;34m\u001b[0m\u001b[0m\n",
            "\u001b[0;32m/usr/local/lib/python3.7/dist-packages/pandas/io/parsers/readers.py\u001b[0m in \u001b[0;36mread_csv\u001b[0;34m(filepath_or_buffer, sep, delimiter, header, names, index_col, usecols, squeeze, prefix, mangle_dupe_cols, dtype, engine, converters, true_values, false_values, skipinitialspace, skiprows, skipfooter, nrows, na_values, keep_default_na, na_filter, verbose, skip_blank_lines, parse_dates, infer_datetime_format, keep_date_col, date_parser, dayfirst, cache_dates, iterator, chunksize, compression, thousands, decimal, lineterminator, quotechar, quoting, doublequote, escapechar, comment, encoding, encoding_errors, dialect, error_bad_lines, warn_bad_lines, on_bad_lines, delim_whitespace, low_memory, memory_map, float_precision, storage_options)\u001b[0m\n\u001b[1;32m    584\u001b[0m     \u001b[0mkwds\u001b[0m\u001b[0;34m.\u001b[0m\u001b[0mupdate\u001b[0m\u001b[0;34m(\u001b[0m\u001b[0mkwds_defaults\u001b[0m\u001b[0;34m)\u001b[0m\u001b[0;34m\u001b[0m\u001b[0;34m\u001b[0m\u001b[0m\n\u001b[1;32m    585\u001b[0m \u001b[0;34m\u001b[0m\u001b[0m\n\u001b[0;32m--> 586\u001b[0;31m     \u001b[0;32mreturn\u001b[0m \u001b[0m_read\u001b[0m\u001b[0;34m(\u001b[0m\u001b[0mfilepath_or_buffer\u001b[0m\u001b[0;34m,\u001b[0m \u001b[0mkwds\u001b[0m\u001b[0;34m)\u001b[0m\u001b[0;34m\u001b[0m\u001b[0;34m\u001b[0m\u001b[0m\n\u001b[0m\u001b[1;32m    587\u001b[0m \u001b[0;34m\u001b[0m\u001b[0m\n\u001b[1;32m    588\u001b[0m \u001b[0;34m\u001b[0m\u001b[0m\n",
            "\u001b[0;32m/usr/local/lib/python3.7/dist-packages/pandas/io/parsers/readers.py\u001b[0m in \u001b[0;36m_read\u001b[0;34m(filepath_or_buffer, kwds)\u001b[0m\n\u001b[1;32m    480\u001b[0m \u001b[0;34m\u001b[0m\u001b[0m\n\u001b[1;32m    481\u001b[0m     \u001b[0;31m# Create the parser.\u001b[0m\u001b[0;34m\u001b[0m\u001b[0;34m\u001b[0m\u001b[0;34m\u001b[0m\u001b[0m\n\u001b[0;32m--> 482\u001b[0;31m     \u001b[0mparser\u001b[0m \u001b[0;34m=\u001b[0m \u001b[0mTextFileReader\u001b[0m\u001b[0;34m(\u001b[0m\u001b[0mfilepath_or_buffer\u001b[0m\u001b[0;34m,\u001b[0m \u001b[0;34m**\u001b[0m\u001b[0mkwds\u001b[0m\u001b[0;34m)\u001b[0m\u001b[0;34m\u001b[0m\u001b[0;34m\u001b[0m\u001b[0m\n\u001b[0m\u001b[1;32m    483\u001b[0m \u001b[0;34m\u001b[0m\u001b[0m\n\u001b[1;32m    484\u001b[0m     \u001b[0;32mif\u001b[0m \u001b[0mchunksize\u001b[0m \u001b[0;32mor\u001b[0m \u001b[0miterator\u001b[0m\u001b[0;34m:\u001b[0m\u001b[0;34m\u001b[0m\u001b[0;34m\u001b[0m\u001b[0m\n",
            "\u001b[0;32m/usr/local/lib/python3.7/dist-packages/pandas/io/parsers/readers.py\u001b[0m in \u001b[0;36m__init__\u001b[0;34m(self, f, engine, **kwds)\u001b[0m\n\u001b[1;32m    809\u001b[0m             \u001b[0mself\u001b[0m\u001b[0;34m.\u001b[0m\u001b[0moptions\u001b[0m\u001b[0;34m[\u001b[0m\u001b[0;34m\"has_index_names\"\u001b[0m\u001b[0;34m]\u001b[0m \u001b[0;34m=\u001b[0m \u001b[0mkwds\u001b[0m\u001b[0;34m[\u001b[0m\u001b[0;34m\"has_index_names\"\u001b[0m\u001b[0;34m]\u001b[0m\u001b[0;34m\u001b[0m\u001b[0;34m\u001b[0m\u001b[0m\n\u001b[1;32m    810\u001b[0m \u001b[0;34m\u001b[0m\u001b[0m\n\u001b[0;32m--> 811\u001b[0;31m         \u001b[0mself\u001b[0m\u001b[0;34m.\u001b[0m\u001b[0m_engine\u001b[0m \u001b[0;34m=\u001b[0m \u001b[0mself\u001b[0m\u001b[0;34m.\u001b[0m\u001b[0m_make_engine\u001b[0m\u001b[0;34m(\u001b[0m\u001b[0mself\u001b[0m\u001b[0;34m.\u001b[0m\u001b[0mengine\u001b[0m\u001b[0;34m)\u001b[0m\u001b[0;34m\u001b[0m\u001b[0;34m\u001b[0m\u001b[0m\n\u001b[0m\u001b[1;32m    812\u001b[0m \u001b[0;34m\u001b[0m\u001b[0m\n\u001b[1;32m    813\u001b[0m     \u001b[0;32mdef\u001b[0m \u001b[0mclose\u001b[0m\u001b[0;34m(\u001b[0m\u001b[0mself\u001b[0m\u001b[0;34m)\u001b[0m\u001b[0;34m:\u001b[0m\u001b[0;34m\u001b[0m\u001b[0;34m\u001b[0m\u001b[0m\n",
            "\u001b[0;32m/usr/local/lib/python3.7/dist-packages/pandas/io/parsers/readers.py\u001b[0m in \u001b[0;36m_make_engine\u001b[0;34m(self, engine)\u001b[0m\n\u001b[1;32m   1038\u001b[0m             )\n\u001b[1;32m   1039\u001b[0m         \u001b[0;31m# error: Too many arguments for \"ParserBase\"\u001b[0m\u001b[0;34m\u001b[0m\u001b[0;34m\u001b[0m\u001b[0;34m\u001b[0m\u001b[0m\n\u001b[0;32m-> 1040\u001b[0;31m         \u001b[0;32mreturn\u001b[0m \u001b[0mmapping\u001b[0m\u001b[0;34m[\u001b[0m\u001b[0mengine\u001b[0m\u001b[0;34m]\u001b[0m\u001b[0;34m(\u001b[0m\u001b[0mself\u001b[0m\u001b[0;34m.\u001b[0m\u001b[0mf\u001b[0m\u001b[0;34m,\u001b[0m \u001b[0;34m**\u001b[0m\u001b[0mself\u001b[0m\u001b[0;34m.\u001b[0m\u001b[0moptions\u001b[0m\u001b[0;34m)\u001b[0m  \u001b[0;31m# type: ignore[call-arg]\u001b[0m\u001b[0;34m\u001b[0m\u001b[0;34m\u001b[0m\u001b[0m\n\u001b[0m\u001b[1;32m   1041\u001b[0m \u001b[0;34m\u001b[0m\u001b[0m\n\u001b[1;32m   1042\u001b[0m     \u001b[0;32mdef\u001b[0m \u001b[0m_failover_to_python\u001b[0m\u001b[0;34m(\u001b[0m\u001b[0mself\u001b[0m\u001b[0;34m)\u001b[0m\u001b[0;34m:\u001b[0m\u001b[0;34m\u001b[0m\u001b[0;34m\u001b[0m\u001b[0m\n",
            "\u001b[0;32m/usr/local/lib/python3.7/dist-packages/pandas/io/parsers/c_parser_wrapper.py\u001b[0m in \u001b[0;36m__init__\u001b[0;34m(self, src, **kwds)\u001b[0m\n\u001b[1;32m     49\u001b[0m \u001b[0;34m\u001b[0m\u001b[0m\n\u001b[1;32m     50\u001b[0m         \u001b[0;31m# open handles\u001b[0m\u001b[0;34m\u001b[0m\u001b[0;34m\u001b[0m\u001b[0;34m\u001b[0m\u001b[0m\n\u001b[0;32m---> 51\u001b[0;31m         \u001b[0mself\u001b[0m\u001b[0;34m.\u001b[0m\u001b[0m_open_handles\u001b[0m\u001b[0;34m(\u001b[0m\u001b[0msrc\u001b[0m\u001b[0;34m,\u001b[0m \u001b[0mkwds\u001b[0m\u001b[0;34m)\u001b[0m\u001b[0;34m\u001b[0m\u001b[0;34m\u001b[0m\u001b[0m\n\u001b[0m\u001b[1;32m     52\u001b[0m         \u001b[0;32massert\u001b[0m \u001b[0mself\u001b[0m\u001b[0;34m.\u001b[0m\u001b[0mhandles\u001b[0m \u001b[0;32mis\u001b[0m \u001b[0;32mnot\u001b[0m \u001b[0;32mNone\u001b[0m\u001b[0;34m\u001b[0m\u001b[0;34m\u001b[0m\u001b[0m\n\u001b[1;32m     53\u001b[0m \u001b[0;34m\u001b[0m\u001b[0m\n",
            "\u001b[0;32m/usr/local/lib/python3.7/dist-packages/pandas/io/parsers/base_parser.py\u001b[0m in \u001b[0;36m_open_handles\u001b[0;34m(self, src, kwds)\u001b[0m\n\u001b[1;32m    227\u001b[0m             \u001b[0mmemory_map\u001b[0m\u001b[0;34m=\u001b[0m\u001b[0mkwds\u001b[0m\u001b[0;34m.\u001b[0m\u001b[0mget\u001b[0m\u001b[0;34m(\u001b[0m\u001b[0;34m\"memory_map\"\u001b[0m\u001b[0;34m,\u001b[0m \u001b[0;32mFalse\u001b[0m\u001b[0;34m)\u001b[0m\u001b[0;34m,\u001b[0m\u001b[0;34m\u001b[0m\u001b[0;34m\u001b[0m\u001b[0m\n\u001b[1;32m    228\u001b[0m             \u001b[0mstorage_options\u001b[0m\u001b[0;34m=\u001b[0m\u001b[0mkwds\u001b[0m\u001b[0;34m.\u001b[0m\u001b[0mget\u001b[0m\u001b[0;34m(\u001b[0m\u001b[0;34m\"storage_options\"\u001b[0m\u001b[0;34m,\u001b[0m \u001b[0;32mNone\u001b[0m\u001b[0;34m)\u001b[0m\u001b[0;34m,\u001b[0m\u001b[0;34m\u001b[0m\u001b[0;34m\u001b[0m\u001b[0m\n\u001b[0;32m--> 229\u001b[0;31m             \u001b[0merrors\u001b[0m\u001b[0;34m=\u001b[0m\u001b[0mkwds\u001b[0m\u001b[0;34m.\u001b[0m\u001b[0mget\u001b[0m\u001b[0;34m(\u001b[0m\u001b[0;34m\"encoding_errors\"\u001b[0m\u001b[0;34m,\u001b[0m \u001b[0;34m\"strict\"\u001b[0m\u001b[0;34m)\u001b[0m\u001b[0;34m,\u001b[0m\u001b[0;34m\u001b[0m\u001b[0;34m\u001b[0m\u001b[0m\n\u001b[0m\u001b[1;32m    230\u001b[0m         )\n\u001b[1;32m    231\u001b[0m \u001b[0;34m\u001b[0m\u001b[0m\n",
            "\u001b[0;32m/usr/local/lib/python3.7/dist-packages/pandas/io/common.py\u001b[0m in \u001b[0;36mget_handle\u001b[0;34m(path_or_buf, mode, encoding, compression, memory_map, is_text, errors, storage_options)\u001b[0m\n\u001b[1;32m    705\u001b[0m                 \u001b[0mencoding\u001b[0m\u001b[0;34m=\u001b[0m\u001b[0mioargs\u001b[0m\u001b[0;34m.\u001b[0m\u001b[0mencoding\u001b[0m\u001b[0;34m,\u001b[0m\u001b[0;34m\u001b[0m\u001b[0;34m\u001b[0m\u001b[0m\n\u001b[1;32m    706\u001b[0m                 \u001b[0merrors\u001b[0m\u001b[0;34m=\u001b[0m\u001b[0merrors\u001b[0m\u001b[0;34m,\u001b[0m\u001b[0;34m\u001b[0m\u001b[0;34m\u001b[0m\u001b[0m\n\u001b[0;32m--> 707\u001b[0;31m                 \u001b[0mnewline\u001b[0m\u001b[0;34m=\u001b[0m\u001b[0;34m\"\"\u001b[0m\u001b[0;34m,\u001b[0m\u001b[0;34m\u001b[0m\u001b[0;34m\u001b[0m\u001b[0m\n\u001b[0m\u001b[1;32m    708\u001b[0m             )\n\u001b[1;32m    709\u001b[0m         \u001b[0;32melse\u001b[0m\u001b[0;34m:\u001b[0m\u001b[0;34m\u001b[0m\u001b[0;34m\u001b[0m\u001b[0m\n",
            "\u001b[0;31mFileNotFoundError\u001b[0m: [Errno 2] No such file or directory: '/content/drive/MyDrive/ML_projectFS180 (1).csv'"
          ]
        }
      ]
    },
    {
      "cell_type": "code",
      "source": [
        "for i in range(1, 31):   \n",
        "  path=f'PS ({i}).csv'\n",
        "\n",
        "  df=pd.read_csv(path)\n",
        "\n",
        "  df[\"index\"] = np.arange(len(df))\n",
        "\n",
        "  fig = make_subplots(rows=6, cols=1, shared_xaxes=True, vertical_spacing=0.02)\n",
        "\n",
        "  fig.add_trace(go.Scatter(x = df[\"index\"], y = df.iloc[:,0], line=dict(color=\"#000000\"), showlegend=False), row=1, col=1)\n",
        "  fig.add_trace(go.Scatter(x = df[\"index\"], y = df.iloc[:,1], line=dict(color=\"#000000\"), showlegend=False), row=2, col=1)\n",
        "  fig.add_trace(go.Scatter(x = df[\"index\"], y = df.iloc[:,2], line=dict(color=\"#000000\"), showlegend=False), row=3, col=1)\n",
        "  fig.add_trace(go.Scatter(x = df[\"index\"], y = df.iloc[:,3], line=dict(color=\"#000000\"), showlegend=False), row=4, col=1)\n",
        "  fig.add_trace(go.Scatter(x = df[\"index\"], y = df.iloc[:,4], line=dict(color=\"#000000\"), showlegend=False), row=5, col=1)\n",
        "  fig.add_trace(go.Scatter(x = df[\"index\"], y = df.iloc[:,5], line=dict(color=\"#000000\"), showlegend=False), row=6, col=1)\n",
        "\n",
        "  fig.update_layout(go.Layout(paper_bgcolor='#FFFFFF',\n",
        "                            plot_bgcolor='#FFFFFF'))\n",
        "\n",
        "  fig.update_xaxes(showticklabels=False, showgrid=False)\n",
        "  fig.update_yaxes(showticklabels=False, showgrid=False) \n",
        "\n",
        "  fig['layout']['yaxis1'].update(range=[-2.496552080264177,2.474831446500584])\n",
        "  fig['layout']['yaxis2'].update(range=[-2.487633054202364,2.323833633188366])\n",
        "  fig['layout']['yaxis3'].update(range=[-2.49595995113954,2.44162977417415])\n",
        "  fig['layout']['yaxis4'].update(range=[-542.3656714124259,548.0356771446986])\n",
        "  fig['layout']['yaxis5'].update(range=[-546.4823931090116,535.3461023622116])\n",
        "  fig['layout']['yaxis6'].update(range=[-560.7689109357055,532.5870366771071])\n",
        "\n",
        "\n",
        "  fig.write_image(f\"images/PS/PS {i}.jpg\")"
      ],
      "metadata": {
        "id": "s8UlzCyYSrHZ",
        "outputId": "7f598480-ef6c-4476-f1b0-d47228c49f01",
        "colab": {
          "base_uri": "https://localhost:8080/",
          "height": 354
        }
      },
      "execution_count": null,
      "outputs": [
        {
          "output_type": "error",
          "ename": "KeyboardInterrupt",
          "evalue": "ignored",
          "traceback": [
            "\u001b[0;31m---------------------------------------------------------------------------\u001b[0m",
            "\u001b[0;31mKeyboardInterrupt\u001b[0m                         Traceback (most recent call last)",
            "\u001b[0;32m<ipython-input-19-2f8eaf5eb62b>\u001b[0m in \u001b[0;36m<module>\u001b[0;34m()\u001b[0m\n\u001b[1;32m     29\u001b[0m \u001b[0;34m\u001b[0m\u001b[0m\n\u001b[1;32m     30\u001b[0m \u001b[0;34m\u001b[0m\u001b[0m\n\u001b[0;32m---> 31\u001b[0;31m   \u001b[0mfig\u001b[0m\u001b[0;34m.\u001b[0m\u001b[0mwrite_image\u001b[0m\u001b[0;34m(\u001b[0m\u001b[0;34mf\"images/PS/PS {i}.jpg\"\u001b[0m\u001b[0;34m)\u001b[0m\u001b[0;34m\u001b[0m\u001b[0;34m\u001b[0m\u001b[0m\n\u001b[0m",
            "\u001b[0;32m/usr/local/lib/python3.7/dist-packages/plotly/basedatatypes.py\u001b[0m in \u001b[0;36mwrite_image\u001b[0;34m(self, *args, **kwargs)\u001b[0m\n\u001b[1;32m   3827\u001b[0m         \u001b[0;32mimport\u001b[0m \u001b[0mplotly\u001b[0m\u001b[0;34m.\u001b[0m\u001b[0mio\u001b[0m \u001b[0;32mas\u001b[0m \u001b[0mpio\u001b[0m\u001b[0;34m\u001b[0m\u001b[0;34m\u001b[0m\u001b[0m\n\u001b[1;32m   3828\u001b[0m \u001b[0;34m\u001b[0m\u001b[0m\n\u001b[0;32m-> 3829\u001b[0;31m         \u001b[0;32mreturn\u001b[0m \u001b[0mpio\u001b[0m\u001b[0;34m.\u001b[0m\u001b[0mwrite_image\u001b[0m\u001b[0;34m(\u001b[0m\u001b[0mself\u001b[0m\u001b[0;34m,\u001b[0m \u001b[0;34m*\u001b[0m\u001b[0margs\u001b[0m\u001b[0;34m,\u001b[0m \u001b[0;34m**\u001b[0m\u001b[0mkwargs\u001b[0m\u001b[0;34m)\u001b[0m\u001b[0;34m\u001b[0m\u001b[0;34m\u001b[0m\u001b[0m\n\u001b[0m\u001b[1;32m   3830\u001b[0m \u001b[0;34m\u001b[0m\u001b[0m\n\u001b[1;32m   3831\u001b[0m     \u001b[0;31m# Static helpers\u001b[0m\u001b[0;34m\u001b[0m\u001b[0;34m\u001b[0m\u001b[0;34m\u001b[0m\u001b[0m\n",
            "\u001b[0;32m/usr/local/lib/python3.7/dist-packages/plotly/io/_kaleido.py\u001b[0m in \u001b[0;36mwrite_image\u001b[0;34m(fig, file, format, scale, width, height, validate, engine)\u001b[0m\n\u001b[1;32m    273\u001b[0m         \u001b[0mheight\u001b[0m\u001b[0;34m=\u001b[0m\u001b[0mheight\u001b[0m\u001b[0;34m,\u001b[0m\u001b[0;34m\u001b[0m\u001b[0;34m\u001b[0m\u001b[0m\n\u001b[1;32m    274\u001b[0m         \u001b[0mvalidate\u001b[0m\u001b[0;34m=\u001b[0m\u001b[0mvalidate\u001b[0m\u001b[0;34m,\u001b[0m\u001b[0;34m\u001b[0m\u001b[0;34m\u001b[0m\u001b[0m\n\u001b[0;32m--> 275\u001b[0;31m         \u001b[0mengine\u001b[0m\u001b[0;34m=\u001b[0m\u001b[0mengine\u001b[0m\u001b[0;34m,\u001b[0m\u001b[0;34m\u001b[0m\u001b[0;34m\u001b[0m\u001b[0m\n\u001b[0m\u001b[1;32m    276\u001b[0m     )\n\u001b[1;32m    277\u001b[0m \u001b[0;34m\u001b[0m\u001b[0m\n",
            "\u001b[0;32m/usr/local/lib/python3.7/dist-packages/plotly/io/_kaleido.py\u001b[0m in \u001b[0;36mto_image\u001b[0;34m(fig, format, width, height, scale, validate, engine)\u001b[0m\n\u001b[1;32m    144\u001b[0m     \u001b[0mfig_dict\u001b[0m \u001b[0;34m=\u001b[0m \u001b[0mvalidate_coerce_fig_to_dict\u001b[0m\u001b[0;34m(\u001b[0m\u001b[0mfig\u001b[0m\u001b[0;34m,\u001b[0m \u001b[0mvalidate\u001b[0m\u001b[0;34m)\u001b[0m\u001b[0;34m\u001b[0m\u001b[0;34m\u001b[0m\u001b[0m\n\u001b[1;32m    145\u001b[0m     img_bytes = scope.transform(\n\u001b[0;32m--> 146\u001b[0;31m         \u001b[0mfig_dict\u001b[0m\u001b[0;34m,\u001b[0m \u001b[0mformat\u001b[0m\u001b[0;34m=\u001b[0m\u001b[0mformat\u001b[0m\u001b[0;34m,\u001b[0m \u001b[0mwidth\u001b[0m\u001b[0;34m=\u001b[0m\u001b[0mwidth\u001b[0m\u001b[0;34m,\u001b[0m \u001b[0mheight\u001b[0m\u001b[0;34m=\u001b[0m\u001b[0mheight\u001b[0m\u001b[0;34m,\u001b[0m \u001b[0mscale\u001b[0m\u001b[0;34m=\u001b[0m\u001b[0mscale\u001b[0m\u001b[0;34m\u001b[0m\u001b[0;34m\u001b[0m\u001b[0m\n\u001b[0m\u001b[1;32m    147\u001b[0m     )\n\u001b[1;32m    148\u001b[0m \u001b[0;34m\u001b[0m\u001b[0m\n",
            "\u001b[0;32m/usr/local/lib/python3.7/dist-packages/kaleido/scopes/plotly.py\u001b[0m in \u001b[0;36mtransform\u001b[0;34m(self, figure, format, width, height, scale)\u001b[0m\n\u001b[1;32m    152\u001b[0m         \u001b[0;31m# response dict, including error codes.\u001b[0m\u001b[0;34m\u001b[0m\u001b[0;34m\u001b[0m\u001b[0;34m\u001b[0m\u001b[0m\n\u001b[1;32m    153\u001b[0m         response = self._perform_transform(\n\u001b[0;32m--> 154\u001b[0;31m             \u001b[0mfigure\u001b[0m\u001b[0;34m,\u001b[0m \u001b[0mformat\u001b[0m\u001b[0;34m=\u001b[0m\u001b[0mformat\u001b[0m\u001b[0;34m,\u001b[0m \u001b[0mwidth\u001b[0m\u001b[0;34m=\u001b[0m\u001b[0mwidth\u001b[0m\u001b[0;34m,\u001b[0m \u001b[0mheight\u001b[0m\u001b[0;34m=\u001b[0m\u001b[0mheight\u001b[0m\u001b[0;34m,\u001b[0m \u001b[0mscale\u001b[0m\u001b[0;34m=\u001b[0m\u001b[0mscale\u001b[0m\u001b[0;34m\u001b[0m\u001b[0;34m\u001b[0m\u001b[0m\n\u001b[0m\u001b[1;32m    155\u001b[0m         )\n\u001b[1;32m    156\u001b[0m \u001b[0;34m\u001b[0m\u001b[0m\n",
            "\u001b[0;32m/usr/local/lib/python3.7/dist-packages/kaleido/scopes/base.py\u001b[0m in \u001b[0;36m_perform_transform\u001b[0;34m(self, data, **kwargs)\u001b[0m\n\u001b[1;32m    306\u001b[0m             \u001b[0mself\u001b[0m\u001b[0;34m.\u001b[0m\u001b[0m_proc\u001b[0m\u001b[0;34m.\u001b[0m\u001b[0mstdin\u001b[0m\u001b[0;34m.\u001b[0m\u001b[0mwrite\u001b[0m\u001b[0;34m(\u001b[0m\u001b[0;34m\"\\n\"\u001b[0m\u001b[0;34m.\u001b[0m\u001b[0mencode\u001b[0m\u001b[0;34m(\u001b[0m\u001b[0;34m'utf-8'\u001b[0m\u001b[0;34m)\u001b[0m\u001b[0;34m)\u001b[0m\u001b[0;34m\u001b[0m\u001b[0;34m\u001b[0m\u001b[0m\n\u001b[1;32m    307\u001b[0m             \u001b[0mself\u001b[0m\u001b[0;34m.\u001b[0m\u001b[0m_proc\u001b[0m\u001b[0;34m.\u001b[0m\u001b[0mstdin\u001b[0m\u001b[0;34m.\u001b[0m\u001b[0mflush\u001b[0m\u001b[0;34m(\u001b[0m\u001b[0;34m)\u001b[0m\u001b[0;34m\u001b[0m\u001b[0;34m\u001b[0m\u001b[0m\n\u001b[0;32m--> 308\u001b[0;31m             \u001b[0mresponse\u001b[0m \u001b[0;34m=\u001b[0m \u001b[0mself\u001b[0m\u001b[0;34m.\u001b[0m\u001b[0m_proc\u001b[0m\u001b[0;34m.\u001b[0m\u001b[0mstdout\u001b[0m\u001b[0;34m.\u001b[0m\u001b[0mreadline\u001b[0m\u001b[0;34m(\u001b[0m\u001b[0;34m)\u001b[0m\u001b[0;34m\u001b[0m\u001b[0;34m\u001b[0m\u001b[0m\n\u001b[0m\u001b[1;32m    309\u001b[0m \u001b[0;34m\u001b[0m\u001b[0m\n\u001b[1;32m    310\u001b[0m         \u001b[0mresponse_string\u001b[0m \u001b[0;34m=\u001b[0m \u001b[0mresponse\u001b[0m\u001b[0;34m.\u001b[0m\u001b[0mdecode\u001b[0m\u001b[0;34m(\u001b[0m\u001b[0;34m'utf-8'\u001b[0m\u001b[0;34m)\u001b[0m\u001b[0;34m\u001b[0m\u001b[0;34m\u001b[0m\u001b[0m\n",
            "\u001b[0;31mKeyboardInterrupt\u001b[0m: "
          ]
        }
      ]
    },
    {
      "cell_type": "code",
      "source": [
        "pwd"
      ],
      "metadata": {
        "colab": {
          "base_uri": "https://localhost:8080/",
          "height": 36
        },
        "id": "4LuQGeWSfO7J",
        "outputId": "8ff8ffd1-64b4-44ba-b179-05cff3bed1ca"
      },
      "execution_count": null,
      "outputs": [
        {
          "output_type": "execute_result",
          "data": {
            "text/plain": [
              "'/content/drive/MyDrive/ML_project'"
            ],
            "application/vnd.google.colaboratory.intrinsic+json": {
              "type": "string"
            }
          },
          "metadata": {},
          "execution_count": 17
        }
      ]
    },
    {
      "cell_type": "code",
      "source": [
        "#%% LOAD REQUIRED LIBRARIES\n",
        "\n",
        "from pathlib import Path\n",
        "\n",
        "import tensorflow\n",
        "import keras\n",
        "\n",
        "from keras.preprocessing import image\n",
        "from keras.utils import np_utils\n",
        "\n",
        "import numpy as np\n",
        "import joblib\n",
        "from PIL import Image\n",
        "\n",
        "#%% LOAD KERAS MOBILENET LIBRARY\n",
        "\n",
        "from keras.applications import mobilenet_v2\n",
        "from keras.applications.mobilenet import decode_predictions\n",
        "from keras.applications.mobilenet import preprocess_input\n",
        "\n",
        "#%% #%% LOAD INPUT IMAGES\n",
        "\n",
        "fs180_path = Path(\"images\")/\"FS180\"\n",
        "kf_path = Path(\"images\")/\"KF\"\n",
        "nfs_path = Path(\"images\")/\"NFS\"\n",
        "ollie_path = Path(\"images\")/\"OLLIE\"\n",
        "ps_path = Path(\"images\")/\"PS\"\n",
        "\n",
        "targetimage = \"*.jpg\"\n",
        "\n",
        "images = []\n",
        "labels = []\n",
        "\n",
        "\n",
        "new_width  = 224\n",
        "new_height = 224\n",
        "    #Load all the fs180 trick images\n",
        "for img in fs180_path.glob(targetimage):\n",
        "    # load image from disk\n",
        "    img = image.load_img(img)\n",
        "    \n",
        "    img = img.resize((new_width, new_height), Image.ANTIALIAS)\n",
        "    #convert intu numoy array\n",
        "    image_array = image.img_to_array(img)\n",
        "    \n",
        "    #add the image to the list of images\n",
        "    images.append(image_array)\n",
        "    \n",
        "    #for each fs180 image, the expected value shoud be 0\n",
        "    labels.append(0)\n",
        "    \n",
        "    #Load all the kickflip trick images\n",
        "for img in kf_path.glob(targetimage):\n",
        "    # load image from disk\n",
        "    img = image.load_img(img)\n",
        "    \n",
        "    img = img.resize((new_width, new_height), Image.ANTIALIAS)\n",
        "    \n",
        "    #convert intu numoy array\n",
        "    image_array = image.img_to_array(img)\n",
        "    \n",
        "    #add the image to the list of images\n",
        "    images.append(image_array)\n",
        "    \n",
        "    #for each kf image, the expected value shoud be 1\n",
        "    labels.append(1)\n",
        "    \n",
        "    #Load all the nfs trick images\n",
        "for img in nfs_path.glob(targetimage):\n",
        "    # load image from disk\n",
        "    img = image.load_img(img)\n",
        "    \n",
        "    img = img.resize((new_width, new_height), Image.ANTIALIAS)\n",
        "    \n",
        "    #convert intu numoy array\n",
        "    image_array = image.img_to_array(img)\n",
        "    \n",
        "    #add the image to the list of images\n",
        "    images.append(image_array)\n",
        "    \n",
        "    #for each nfs image, the expected value shoud be 2\n",
        "    labels.append(2)\n",
        "\n",
        "    #Load all the ollie trick images\n",
        "for img in ollie_path.glob(targetimage):\n",
        "    # load image from disk\n",
        "    img = image.load_img(img)\n",
        "    \n",
        "    img = img.resize((new_width, new_height), Image.ANTIALIAS)\n",
        "    #convert intu numoy array\n",
        "    image_array = image.img_to_array(img)\n",
        "    \n",
        "    #add the image to the list of images\n",
        "    images.append(image_array)\n",
        "    \n",
        "    #for each ollie image, the expected value shoud be 3\n",
        "    labels.append(3)\n",
        "\n",
        "    #Load all the popshuvit trick images\n",
        "for img in ps_path.glob(targetimage):\n",
        "    # load image from disk\n",
        "    img = image.load_img(img)\n",
        "    \n",
        "    img = img.resize((new_width, new_height), Image.ANTIALIAS)\n",
        "    #convert intu numoy array\n",
        "    image_array = image.img_to_array(img)\n",
        "    \n",
        "    #add the image to the list of images\n",
        "    images.append(image_array)\n",
        "    \n",
        "    #for each popshuvit image, the expected value shoud be 4\n",
        "    labels.append(4)\n",
        "\n",
        "#Create a single numpy array with all the images loaded\n",
        "x_val = np.array(images)\n",
        "\n",
        "#convert all the labels to a numpy array\n",
        "y_val = np.array(labels)\n",
        "num_classes = 5\n",
        "y_val = np_utils.to_categorical(y_val, num_classes)\n",
        "\n",
        "#normalize data 0 to 1 range\n",
        "x_val = preprocess_input(x_val)\n",
        "\n",
        "#%% TRANSFER LEARNING\n",
        "\n",
        "#load pretrained NN as feature extractor\n",
        "pretrained_nn = tensorflow.keras.applications.mobilenet_v2.MobileNetV2(\n",
        "    input_shape=None,\n",
        "    alpha=1.0,\n",
        "    include_top=True,\n",
        "    weights='imagenet',\n",
        "    input_tensor=None,\n",
        "    pooling=None,\n",
        "    classes=1000,\n",
        "    classifier_activation='softmax'\n",
        ")\n",
        "print('MobileNet')\n",
        "\n",
        "#Extract features for each omage\n",
        "features_x_val = pretrained_nn.predict(x_val)\n",
        "\n",
        "features_flatten = features_x_val.reshape((features_x_val.shape[0],1000))\n",
        "\n",
        "#save the array of extracted features into a file\n",
        "joblib.dump(features_x_val, \"RAW-MobileNet-x_val.dat\")\n",
        "\n",
        "#save the matching array of expected values to a file\n",
        "joblib.dump(y_val, \"RAW-MobileNet-y_val.dat\")\n",
        "\n",
        "#%% DATA SPLIITING FOR TRAIN-VALIDATION-TEST\n",
        "\n",
        "features = features_flatten\n",
        "lables = labels\n",
        "\n",
        "from sklearn.model_selection import train_test_split\n",
        "\n",
        "#First Split, splitting the data to 3:1 ratio.\n",
        "X_train,X_test,y_train,y_test = train_test_split(features, labels, test_size=1/3,random_state=42,stratify=lables)\n",
        "\n",
        "#Second split, splitting the test data into half, i.e., validation and test.\n",
        "X_val,X_test,y_val,y_test = train_test_split(X_test, y_test, test_size=0.5,random_state=42,stratify=y_test)\n",
        "\n",
        "#%% SVM HYPERPARAMETER TUNING USING GRIDSEARCH\n",
        "\n",
        "from sklearn.model_selection import GridSearchCV\n",
        "from sklearn.svm import SVC\n",
        "\n",
        "def print_results(results):\n",
        "    print('Best Param: {}\\n'.format(results.best_params_))\n",
        "    means = results.cv_results_['mean_test_score']\n",
        "    stds = results.cv_results_['std_test_score']\n",
        "    for mean, std, params in zip(means,stds, results.cv_results_['params']):\n",
        "        print('{} (+/-{}) for {}'.format(round(mean,3),round(std*2,3),params))\n",
        "\n",
        "svc=SVC()\n",
        "parameters={\n",
        "        'kernel':['rbf', 'poly'],\n",
        "        'gamma' : [0.1, 1, 10],\n",
        "        'C':[0.01, 0.1, 1, 10],\n",
        "        'degree' : [0, 1, 2, 3, 4, 5, 6]\n",
        "        }\n",
        "\n",
        "cv = GridSearchCV(svc,parameters,cv=3)\n",
        "\n",
        "cv.fit(X_train,y_train)\n",
        "\n",
        "print_results(cv)\n",
        "\n",
        "cv.best_estimator_\n",
        "\n",
        "joblib.dump(cv.best_estimator_,'RAW-MobileNet-SVM.pkl')\n",
        "\n",
        "#%% TRAIN-VALIDATION-TEST OPTIMIZED HYPERPARAMETERS\n",
        "\n",
        "from sklearn.metrics import classification_report\n",
        "from sklearn.metrics import accuracy_score\n",
        "\n",
        "from sklearn.svm import SVC\n",
        "from sklearn.model_selection import cross_val_score\n",
        "from sklearn.metrics import plot_confusion_matrix\n",
        "import matplotlib.pyplot as plt\n",
        "\n",
        "class_names = ['PS180','KF','NFS','OLLIE','PS']\n",
        "\n",
        "# MANUAL INSERT OPTIMIZED HYPERPARAMETER\n",
        "SVM1 = SVC(kernel='linear', C=0.01, gamma=0.1, degree=0)\n",
        "\n",
        "scores = cross_val_score(SVM1, X_train, y_train, cv=3)\n",
        "AC=round(scores.mean(),3)\n",
        "stds=round(scores.std(),3)\n",
        "print(AC,stds)\n",
        "\n",
        "classifier = SVM1.fit(X_train, y_train)\n",
        "\n",
        "print('           #############Train#############')\n",
        "y_pred_tr = SVM1.predict(X_train)\n",
        "tr_acc = round(accuracy_score(y_train,y_pred_tr),5)\n",
        "print(classification_report(y_train,y_pred_tr))\n",
        "\n",
        "print('           #############Validate#############')\n",
        "y_pred_v = SVM1.predict(X_val)\n",
        "v_acc = round(accuracy_score(y_val,y_pred_v),5)\n",
        "print(classification_report(y_val,y_pred_v))\n",
        "\n",
        "print('           #############Test#############')\n",
        "y_pred_ts = SVM1.predict(X_test)\n",
        "ts_acc = round(accuracy_score(y_test,y_pred_ts),5)\n",
        "print(classification_report(y_test,y_pred_ts))\n",
        "\n",
        "np.set_printoptions(precision=2)\n",
        "\n",
        "# PLOT CONFUSION MATRIX\n",
        "titles_options = [(\"MobileNet-RAW-SVM - Confusion Matrix\", None),\n",
        "                  (\"MobileNet-RAW-SVM - Normalized Confusion Matrix\", 'true')]\n",
        "\n",
        "for title, normalize in titles_options:\n",
        "    disp = plot_confusion_matrix(classifier, X_test, y_test,\n",
        "                                 display_labels=class_names,\n",
        "                                 cmap=plt.cm.Blues,\n",
        "                                 normalize=normalize)\n",
        "    disp.ax_.set_title(title)\n",
        "\n",
        "    print(title)\n",
        "    print(disp.confusion_matrix)\n",
        "    plt.show()"
      ],
      "metadata": {
        "id": "Z7qtShJ1T51N",
        "colab": {
          "base_uri": "https://localhost:8080/",
          "height": 1000
        },
        "outputId": "50876b20-822f-413d-b8a8-6f431ad6b962"
      },
      "execution_count": null,
      "outputs": [
        {
          "output_type": "stream",
          "name": "stdout",
          "text": [
            "Downloading data from https://storage.googleapis.com/tensorflow/keras-applications/mobilenet_v2/mobilenet_v2_weights_tf_dim_ordering_tf_kernels_1.0_224.h5\n",
            "14540800/14536120 [==============================] - 0s 0us/step\n",
            "14548992/14536120 [==============================] - 0s 0us/step\n",
            "MobileNet\n",
            "Best Param: {'C': 1, 'degree': 5, 'gamma': 10, 'kernel': 'poly'}\n",
            "\n",
            "0.2 (+/-0.034) for {'C': 0.01, 'degree': 0, 'gamma': 0.1, 'kernel': 'rbf'}\n",
            "0.18 (+/-0.005) for {'C': 0.01, 'degree': 0, 'gamma': 0.1, 'kernel': 'poly'}\n",
            "0.2 (+/-0.034) for {'C': 0.01, 'degree': 0, 'gamma': 1, 'kernel': 'rbf'}\n",
            "0.18 (+/-0.005) for {'C': 0.01, 'degree': 0, 'gamma': 1, 'kernel': 'poly'}\n",
            "0.2 (+/-0.034) for {'C': 0.01, 'degree': 0, 'gamma': 10, 'kernel': 'rbf'}\n",
            "0.18 (+/-0.005) for {'C': 0.01, 'degree': 0, 'gamma': 10, 'kernel': 'poly'}\n",
            "0.2 (+/-0.034) for {'C': 0.01, 'degree': 1, 'gamma': 0.1, 'kernel': 'rbf'}\n",
            "0.2 (+/-0.034) for {'C': 0.01, 'degree': 1, 'gamma': 0.1, 'kernel': 'poly'}\n",
            "0.2 (+/-0.034) for {'C': 0.01, 'degree': 1, 'gamma': 1, 'kernel': 'rbf'}\n",
            "0.2 (+/-0.034) for {'C': 0.01, 'degree': 1, 'gamma': 1, 'kernel': 'poly'}\n",
            "0.2 (+/-0.034) for {'C': 0.01, 'degree': 1, 'gamma': 10, 'kernel': 'rbf'}\n",
            "0.2 (+/-0.034) for {'C': 0.01, 'degree': 1, 'gamma': 10, 'kernel': 'poly'}\n",
            "0.2 (+/-0.034) for {'C': 0.01, 'degree': 2, 'gamma': 0.1, 'kernel': 'rbf'}\n",
            "0.18 (+/-0.005) for {'C': 0.01, 'degree': 2, 'gamma': 0.1, 'kernel': 'poly'}\n",
            "0.2 (+/-0.034) for {'C': 0.01, 'degree': 2, 'gamma': 1, 'kernel': 'rbf'}\n",
            "0.18 (+/-0.005) for {'C': 0.01, 'degree': 2, 'gamma': 1, 'kernel': 'poly'}\n",
            "0.2 (+/-0.034) for {'C': 0.01, 'degree': 2, 'gamma': 10, 'kernel': 'rbf'}\n",
            "0.18 (+/-0.005) for {'C': 0.01, 'degree': 2, 'gamma': 10, 'kernel': 'poly'}\n",
            "0.2 (+/-0.034) for {'C': 0.01, 'degree': 3, 'gamma': 0.1, 'kernel': 'rbf'}\n",
            "0.18 (+/-0.005) for {'C': 0.01, 'degree': 3, 'gamma': 0.1, 'kernel': 'poly'}\n",
            "0.2 (+/-0.034) for {'C': 0.01, 'degree': 3, 'gamma': 1, 'kernel': 'rbf'}\n",
            "0.18 (+/-0.005) for {'C': 0.01, 'degree': 3, 'gamma': 1, 'kernel': 'poly'}\n",
            "0.2 (+/-0.034) for {'C': 0.01, 'degree': 3, 'gamma': 10, 'kernel': 'rbf'}\n",
            "0.18 (+/-0.005) for {'C': 0.01, 'degree': 3, 'gamma': 10, 'kernel': 'poly'}\n",
            "0.2 (+/-0.034) for {'C': 0.01, 'degree': 4, 'gamma': 0.1, 'kernel': 'rbf'}\n",
            "0.18 (+/-0.005) for {'C': 0.01, 'degree': 4, 'gamma': 0.1, 'kernel': 'poly'}\n",
            "0.2 (+/-0.034) for {'C': 0.01, 'degree': 4, 'gamma': 1, 'kernel': 'rbf'}\n",
            "0.18 (+/-0.005) for {'C': 0.01, 'degree': 4, 'gamma': 1, 'kernel': 'poly'}\n",
            "0.2 (+/-0.034) for {'C': 0.01, 'degree': 4, 'gamma': 10, 'kernel': 'rbf'}\n",
            "0.19 (+/-0.031) for {'C': 0.01, 'degree': 4, 'gamma': 10, 'kernel': 'poly'}\n",
            "0.2 (+/-0.034) for {'C': 0.01, 'degree': 5, 'gamma': 0.1, 'kernel': 'rbf'}\n",
            "0.18 (+/-0.005) for {'C': 0.01, 'degree': 5, 'gamma': 0.1, 'kernel': 'poly'}\n",
            "0.2 (+/-0.034) for {'C': 0.01, 'degree': 5, 'gamma': 1, 'kernel': 'rbf'}\n",
            "0.18 (+/-0.005) for {'C': 0.01, 'degree': 5, 'gamma': 1, 'kernel': 'poly'}\n",
            "0.2 (+/-0.034) for {'C': 0.01, 'degree': 5, 'gamma': 10, 'kernel': 'rbf'}\n",
            "0.21 (+/-0.044) for {'C': 0.01, 'degree': 5, 'gamma': 10, 'kernel': 'poly'}\n",
            "0.2 (+/-0.034) for {'C': 0.01, 'degree': 6, 'gamma': 0.1, 'kernel': 'rbf'}\n",
            "0.18 (+/-0.005) for {'C': 0.01, 'degree': 6, 'gamma': 0.1, 'kernel': 'poly'}\n",
            "0.2 (+/-0.034) for {'C': 0.01, 'degree': 6, 'gamma': 1, 'kernel': 'rbf'}\n",
            "0.18 (+/-0.005) for {'C': 0.01, 'degree': 6, 'gamma': 1, 'kernel': 'poly'}\n",
            "0.2 (+/-0.034) for {'C': 0.01, 'degree': 6, 'gamma': 10, 'kernel': 'rbf'}\n",
            "0.2 (+/-0.05) for {'C': 0.01, 'degree': 6, 'gamma': 10, 'kernel': 'poly'}\n",
            "0.2 (+/-0.034) for {'C': 0.1, 'degree': 0, 'gamma': 0.1, 'kernel': 'rbf'}\n",
            "0.18 (+/-0.005) for {'C': 0.1, 'degree': 0, 'gamma': 0.1, 'kernel': 'poly'}\n",
            "0.2 (+/-0.034) for {'C': 0.1, 'degree': 0, 'gamma': 1, 'kernel': 'rbf'}\n",
            "0.18 (+/-0.005) for {'C': 0.1, 'degree': 0, 'gamma': 1, 'kernel': 'poly'}\n",
            "0.2 (+/-0.034) for {'C': 0.1, 'degree': 0, 'gamma': 10, 'kernel': 'rbf'}\n",
            "0.18 (+/-0.005) for {'C': 0.1, 'degree': 0, 'gamma': 10, 'kernel': 'poly'}\n",
            "0.2 (+/-0.034) for {'C': 0.1, 'degree': 1, 'gamma': 0.1, 'kernel': 'rbf'}\n",
            "0.2 (+/-0.034) for {'C': 0.1, 'degree': 1, 'gamma': 0.1, 'kernel': 'poly'}\n",
            "0.2 (+/-0.034) for {'C': 0.1, 'degree': 1, 'gamma': 1, 'kernel': 'rbf'}\n",
            "0.2 (+/-0.034) for {'C': 0.1, 'degree': 1, 'gamma': 1, 'kernel': 'poly'}\n",
            "0.2 (+/-0.034) for {'C': 0.1, 'degree': 1, 'gamma': 10, 'kernel': 'rbf'}\n",
            "0.2 (+/-0.034) for {'C': 0.1, 'degree': 1, 'gamma': 10, 'kernel': 'poly'}\n",
            "0.2 (+/-0.034) for {'C': 0.1, 'degree': 2, 'gamma': 0.1, 'kernel': 'rbf'}\n",
            "0.18 (+/-0.005) for {'C': 0.1, 'degree': 2, 'gamma': 0.1, 'kernel': 'poly'}\n",
            "0.2 (+/-0.034) for {'C': 0.1, 'degree': 2, 'gamma': 1, 'kernel': 'rbf'}\n",
            "0.18 (+/-0.005) for {'C': 0.1, 'degree': 2, 'gamma': 1, 'kernel': 'poly'}\n",
            "0.2 (+/-0.034) for {'C': 0.1, 'degree': 2, 'gamma': 10, 'kernel': 'rbf'}\n",
            "0.209 (+/-0.078) for {'C': 0.1, 'degree': 2, 'gamma': 10, 'kernel': 'poly'}\n",
            "0.2 (+/-0.034) for {'C': 0.1, 'degree': 3, 'gamma': 0.1, 'kernel': 'rbf'}\n",
            "0.18 (+/-0.005) for {'C': 0.1, 'degree': 3, 'gamma': 0.1, 'kernel': 'poly'}\n",
            "0.2 (+/-0.034) for {'C': 0.1, 'degree': 3, 'gamma': 1, 'kernel': 'rbf'}\n",
            "0.18 (+/-0.005) for {'C': 0.1, 'degree': 3, 'gamma': 1, 'kernel': 'poly'}\n",
            "0.2 (+/-0.034) for {'C': 0.1, 'degree': 3, 'gamma': 10, 'kernel': 'rbf'}\n",
            "0.22 (+/-0.022) for {'C': 0.1, 'degree': 3, 'gamma': 10, 'kernel': 'poly'}\n",
            "0.2 (+/-0.034) for {'C': 0.1, 'degree': 4, 'gamma': 0.1, 'kernel': 'rbf'}\n",
            "0.18 (+/-0.005) for {'C': 0.1, 'degree': 4, 'gamma': 0.1, 'kernel': 'poly'}\n",
            "0.2 (+/-0.034) for {'C': 0.1, 'degree': 4, 'gamma': 1, 'kernel': 'rbf'}\n",
            "0.18 (+/-0.005) for {'C': 0.1, 'degree': 4, 'gamma': 1, 'kernel': 'poly'}\n",
            "0.2 (+/-0.034) for {'C': 0.1, 'degree': 4, 'gamma': 10, 'kernel': 'rbf'}\n",
            "0.23 (+/-0.05) for {'C': 0.1, 'degree': 4, 'gamma': 10, 'kernel': 'poly'}\n",
            "0.2 (+/-0.034) for {'C': 0.1, 'degree': 5, 'gamma': 0.1, 'kernel': 'rbf'}\n",
            "0.18 (+/-0.005) for {'C': 0.1, 'degree': 5, 'gamma': 0.1, 'kernel': 'poly'}\n",
            "0.2 (+/-0.034) for {'C': 0.1, 'degree': 5, 'gamma': 1, 'kernel': 'rbf'}\n",
            "0.18 (+/-0.005) for {'C': 0.1, 'degree': 5, 'gamma': 1, 'kernel': 'poly'}\n",
            "0.2 (+/-0.034) for {'C': 0.1, 'degree': 5, 'gamma': 10, 'kernel': 'rbf'}\n",
            "0.259 (+/-0.094) for {'C': 0.1, 'degree': 5, 'gamma': 10, 'kernel': 'poly'}\n",
            "0.2 (+/-0.034) for {'C': 0.1, 'degree': 6, 'gamma': 0.1, 'kernel': 'rbf'}\n",
            "0.18 (+/-0.005) for {'C': 0.1, 'degree': 6, 'gamma': 0.1, 'kernel': 'poly'}\n",
            "0.2 (+/-0.034) for {'C': 0.1, 'degree': 6, 'gamma': 1, 'kernel': 'rbf'}\n",
            "0.18 (+/-0.005) for {'C': 0.1, 'degree': 6, 'gamma': 1, 'kernel': 'poly'}\n",
            "0.2 (+/-0.034) for {'C': 0.1, 'degree': 6, 'gamma': 10, 'kernel': 'rbf'}\n",
            "0.25 (+/-0.068) for {'C': 0.1, 'degree': 6, 'gamma': 10, 'kernel': 'poly'}\n",
            "0.2 (+/-0.034) for {'C': 1, 'degree': 0, 'gamma': 0.1, 'kernel': 'rbf'}\n",
            "0.18 (+/-0.005) for {'C': 1, 'degree': 0, 'gamma': 0.1, 'kernel': 'poly'}\n",
            "0.191 (+/-0.106) for {'C': 1, 'degree': 0, 'gamma': 1, 'kernel': 'rbf'}\n",
            "0.18 (+/-0.005) for {'C': 1, 'degree': 0, 'gamma': 1, 'kernel': 'poly'}\n",
            "0.26 (+/-0.026) for {'C': 1, 'degree': 0, 'gamma': 10, 'kernel': 'rbf'}\n",
            "0.18 (+/-0.005) for {'C': 1, 'degree': 0, 'gamma': 10, 'kernel': 'poly'}\n",
            "0.2 (+/-0.034) for {'C': 1, 'degree': 1, 'gamma': 0.1, 'kernel': 'rbf'}\n",
            "0.2 (+/-0.034) for {'C': 1, 'degree': 1, 'gamma': 0.1, 'kernel': 'poly'}\n",
            "0.191 (+/-0.106) for {'C': 1, 'degree': 1, 'gamma': 1, 'kernel': 'rbf'}\n",
            "0.2 (+/-0.034) for {'C': 1, 'degree': 1, 'gamma': 1, 'kernel': 'poly'}\n",
            "0.26 (+/-0.026) for {'C': 1, 'degree': 1, 'gamma': 10, 'kernel': 'rbf'}\n",
            "0.28 (+/-0.033) for {'C': 1, 'degree': 1, 'gamma': 10, 'kernel': 'poly'}\n",
            "0.2 (+/-0.034) for {'C': 1, 'degree': 2, 'gamma': 0.1, 'kernel': 'rbf'}\n",
            "0.18 (+/-0.005) for {'C': 1, 'degree': 2, 'gamma': 0.1, 'kernel': 'poly'}\n",
            "0.191 (+/-0.106) for {'C': 1, 'degree': 2, 'gamma': 1, 'kernel': 'rbf'}\n",
            "0.18 (+/-0.005) for {'C': 1, 'degree': 2, 'gamma': 1, 'kernel': 'poly'}\n",
            "0.26 (+/-0.026) for {'C': 1, 'degree': 2, 'gamma': 10, 'kernel': 'rbf'}\n",
            "0.26 (+/-0.061) for {'C': 1, 'degree': 2, 'gamma': 10, 'kernel': 'poly'}\n",
            "0.2 (+/-0.034) for {'C': 1, 'degree': 3, 'gamma': 0.1, 'kernel': 'rbf'}\n",
            "0.18 (+/-0.005) for {'C': 1, 'degree': 3, 'gamma': 0.1, 'kernel': 'poly'}\n",
            "0.191 (+/-0.106) for {'C': 1, 'degree': 3, 'gamma': 1, 'kernel': 'rbf'}\n",
            "0.18 (+/-0.005) for {'C': 1, 'degree': 3, 'gamma': 1, 'kernel': 'poly'}\n",
            "0.26 (+/-0.026) for {'C': 1, 'degree': 3, 'gamma': 10, 'kernel': 'rbf'}\n",
            "0.26 (+/-0.069) for {'C': 1, 'degree': 3, 'gamma': 10, 'kernel': 'poly'}\n",
            "0.2 (+/-0.034) for {'C': 1, 'degree': 4, 'gamma': 0.1, 'kernel': 'rbf'}\n",
            "0.18 (+/-0.005) for {'C': 1, 'degree': 4, 'gamma': 0.1, 'kernel': 'poly'}\n",
            "0.191 (+/-0.106) for {'C': 1, 'degree': 4, 'gamma': 1, 'kernel': 'rbf'}\n",
            "0.18 (+/-0.005) for {'C': 1, 'degree': 4, 'gamma': 1, 'kernel': 'poly'}\n",
            "0.26 (+/-0.026) for {'C': 1, 'degree': 4, 'gamma': 10, 'kernel': 'rbf'}\n",
            "0.279 (+/-0.104) for {'C': 1, 'degree': 4, 'gamma': 10, 'kernel': 'poly'}\n",
            "0.2 (+/-0.034) for {'C': 1, 'degree': 5, 'gamma': 0.1, 'kernel': 'rbf'}\n",
            "0.18 (+/-0.005) for {'C': 1, 'degree': 5, 'gamma': 0.1, 'kernel': 'poly'}\n",
            "0.191 (+/-0.106) for {'C': 1, 'degree': 5, 'gamma': 1, 'kernel': 'rbf'}\n",
            "0.18 (+/-0.005) for {'C': 1, 'degree': 5, 'gamma': 1, 'kernel': 'poly'}\n",
            "0.26 (+/-0.026) for {'C': 1, 'degree': 5, 'gamma': 10, 'kernel': 'rbf'}\n",
            "0.289 (+/-0.141) for {'C': 1, 'degree': 5, 'gamma': 10, 'kernel': 'poly'}\n",
            "0.2 (+/-0.034) for {'C': 1, 'degree': 6, 'gamma': 0.1, 'kernel': 'rbf'}\n",
            "0.18 (+/-0.005) for {'C': 1, 'degree': 6, 'gamma': 0.1, 'kernel': 'poly'}\n",
            "0.191 (+/-0.106) for {'C': 1, 'degree': 6, 'gamma': 1, 'kernel': 'rbf'}\n",
            "0.18 (+/-0.005) for {'C': 1, 'degree': 6, 'gamma': 1, 'kernel': 'poly'}\n",
            "0.26 (+/-0.026) for {'C': 1, 'degree': 6, 'gamma': 10, 'kernel': 'rbf'}\n",
            "0.28 (+/-0.067) for {'C': 1, 'degree': 6, 'gamma': 10, 'kernel': 'poly'}\n",
            "0.2 0.017\n",
            "           #############Train#############\n",
            "              precision    recall  f1-score   support\n",
            "\n",
            "           0       0.48      0.65      0.55        20\n",
            "           1       0.39      0.35      0.37        20\n",
            "           2       0.00      0.00      0.00        20\n",
            "           3       0.40      0.30      0.34        20\n",
            "           4       0.28      0.55      0.37        20\n",
            "\n",
            "    accuracy                           0.37       100\n",
            "   macro avg       0.31      0.37      0.33       100\n",
            "weighted avg       0.31      0.37      0.33       100\n",
            "\n",
            "           #############Validate#############\n",
            "              precision    recall  f1-score   support\n",
            "\n",
            "           0       0.36      0.80      0.50         5\n",
            "           1       0.67      0.40      0.50         5\n",
            "           2       0.00      0.00      0.00         5\n",
            "           3       0.33      0.20      0.25         5\n",
            "           4       0.25      0.40      0.31         5\n",
            "\n",
            "    accuracy                           0.36        25\n",
            "   macro avg       0.32      0.36      0.31        25\n",
            "weighted avg       0.32      0.36      0.31        25\n",
            "\n",
            "           #############Test#############\n",
            "              precision    recall  f1-score   support\n",
            "\n",
            "           0       0.12      0.20      0.15         5\n",
            "           1       0.33      0.20      0.25         5\n",
            "           2       0.00      0.00      0.00         5\n",
            "           3       0.40      0.40      0.40         5\n",
            "           4       0.22      0.40      0.29         5\n",
            "\n",
            "    accuracy                           0.24        25\n",
            "   macro avg       0.22      0.24      0.22        25\n",
            "weighted avg       0.22      0.24      0.22        25\n",
            "\n"
          ]
        },
        {
          "output_type": "stream",
          "name": "stderr",
          "text": [
            "/usr/local/lib/python3.7/dist-packages/sklearn/metrics/_classification.py:1318: UndefinedMetricWarning:\n",
            "\n",
            "Precision and F-score are ill-defined and being set to 0.0 in labels with no predicted samples. Use `zero_division` parameter to control this behavior.\n",
            "\n",
            "/usr/local/lib/python3.7/dist-packages/sklearn/metrics/_classification.py:1318: UndefinedMetricWarning:\n",
            "\n",
            "Precision and F-score are ill-defined and being set to 0.0 in labels with no predicted samples. Use `zero_division` parameter to control this behavior.\n",
            "\n",
            "/usr/local/lib/python3.7/dist-packages/sklearn/metrics/_classification.py:1318: UndefinedMetricWarning:\n",
            "\n",
            "Precision and F-score are ill-defined and being set to 0.0 in labels with no predicted samples. Use `zero_division` parameter to control this behavior.\n",
            "\n",
            "/usr/local/lib/python3.7/dist-packages/sklearn/metrics/_classification.py:1318: UndefinedMetricWarning:\n",
            "\n",
            "Precision and F-score are ill-defined and being set to 0.0 in labels with no predicted samples. Use `zero_division` parameter to control this behavior.\n",
            "\n",
            "/usr/local/lib/python3.7/dist-packages/sklearn/metrics/_classification.py:1318: UndefinedMetricWarning:\n",
            "\n",
            "Precision and F-score are ill-defined and being set to 0.0 in labels with no predicted samples. Use `zero_division` parameter to control this behavior.\n",
            "\n",
            "/usr/local/lib/python3.7/dist-packages/sklearn/metrics/_classification.py:1318: UndefinedMetricWarning:\n",
            "\n",
            "Precision and F-score are ill-defined and being set to 0.0 in labels with no predicted samples. Use `zero_division` parameter to control this behavior.\n",
            "\n",
            "/usr/local/lib/python3.7/dist-packages/sklearn/metrics/_classification.py:1318: UndefinedMetricWarning:\n",
            "\n",
            "Precision and F-score are ill-defined and being set to 0.0 in labels with no predicted samples. Use `zero_division` parameter to control this behavior.\n",
            "\n",
            "/usr/local/lib/python3.7/dist-packages/sklearn/metrics/_classification.py:1318: UndefinedMetricWarning:\n",
            "\n",
            "Precision and F-score are ill-defined and being set to 0.0 in labels with no predicted samples. Use `zero_division` parameter to control this behavior.\n",
            "\n",
            "/usr/local/lib/python3.7/dist-packages/sklearn/metrics/_classification.py:1318: UndefinedMetricWarning:\n",
            "\n",
            "Precision and F-score are ill-defined and being set to 0.0 in labels with no predicted samples. Use `zero_division` parameter to control this behavior.\n",
            "\n",
            "/usr/local/lib/python3.7/dist-packages/sklearn/utils/deprecation.py:87: FutureWarning:\n",
            "\n",
            "Function plot_confusion_matrix is deprecated; Function `plot_confusion_matrix` is deprecated in 1.0 and will be removed in 1.2. Use one of the class methods: ConfusionMatrixDisplay.from_predictions or ConfusionMatrixDisplay.from_estimator.\n",
            "\n"
          ]
        },
        {
          "output_type": "stream",
          "name": "stdout",
          "text": [
            "MobileNet-RAW-SVM - Confusion Matrix\n",
            "[[1 0 0 1 3]\n",
            " [1 1 0 2 1]\n",
            " [3 1 0 0 1]\n",
            " [1 0 0 2 2]\n",
            " [2 1 0 0 2]]\n"
          ]
        },
        {
          "output_type": "display_data",
          "data": {
            "text/plain": [
              "<Figure size 432x288 with 2 Axes>"
            ],
            "image/png": "[encoded data removed]"
          },
          "metadata": {
            "needs_background": "light"
          }
        },
        {
          "output_type": "stream",
          "name": "stderr",
          "text": [
            "/usr/local/lib/python3.7/dist-packages/sklearn/utils/deprecation.py:87: FutureWarning:\n",
            "\n",
            "Function plot_confusion_matrix is deprecated; Function `plot_confusion_matrix` is deprecated in 1.0 and will be removed in 1.2. Use one of the class methods: ConfusionMatrixDisplay.from_predictions or ConfusionMatrixDisplay.from_estimator.\n",
            "\n"
          ]
        },
        {
          "output_type": "stream",
          "name": "stdout",
          "text": [
            "MobileNet-RAW-SVM - Normalized Confusion Matrix\n",
            "[[0.2 0.  0.  0.2 0.6]\n",
            " [0.2 0.2 0.  0.4 0.2]\n",
            " [0.6 0.2 0.  0.  0.2]\n",
            " [0.2 0.  0.  0.4 0.4]\n",
            " [0.4 0.2 0.  0.  0.4]]\n"
          ]
        },
        {
          "output_type": "display_data",
          "data": {
            "text/plain": [
              "<Figure size 432x288 with 2 Axes>"
            ],
            "image/png": "[encoded data removed]"
          },
          "metadata": {
            "needs_background": "light"
          }
        }
      ]
    },
    {
      "cell_type": "code",
      "source": [
        "%%capture\n",
        "!pip install kaleido\n",
        "!pip install plotly>=4.0.0\n",
        "!wget https://github.com/plotly/orca/releases/download/v1.2.1/orca-1.2.1-x86_64.AppImage -O /usr/local/bin/orca\n",
        "!chmod +x /usr/local/bin/orca\n",
        "!apt-get install xvfb libgtk2.0-0 libgconf-2-4"
      ],
      "metadata": {
        "id": "7ng_WxFBSToe"
      },
      "execution_count": null,
      "outputs": []
    },
    {
      "cell_type": "code",
      "source": [
        "from pathlib import Path\n",
        "\n",
        "import tensorflow\n",
        "\n",
        "import numpy as np\n",
        "import pandas as pd\n",
        "\n",
        "from plotly.subplots import make_subplots\n",
        "import plotly.graph_objects as go\n",
        "\n",
        "import plotly.express as px\n",
        "import plotly.io as pio\n",
        "\n",
        "import keras\n",
        "\n",
        "from keras.preprocessing import image\n",
        "from keras.utils import np_utils\n",
        "from keras.applications.resnet import ResNet101\n",
        "from keras.applications.mobilenet import preprocess_input\n",
        "\n",
        "from sklearn.model_selection import train_test_split\n",
        "from sklearn.model_selection import GridSearchCV\n",
        "from sklearn.svm import SVC\n",
        "from sklearn.metrics import classification_report\n",
        "from sklearn.metrics import accuracy_score\n",
        "from sklearn.model_selection import cross_val_score\n",
        "from sklearn.metrics import plot_confusion_matrix\n",
        "\n",
        "import matplotlib.pyplot as plt\n",
        "\n",
        "from PIL import Image\n",
        "\n",
        "\n",
        "#Define\n",
        "tricks = [\"OLLIE\", \"PS\", \"KF\", \"FS180\", \"NFS\"]\n",
        "axes = [\"ax\", \"ay\", \"az\", \"gx\", \"gy\", \"gz\"]\n",
        "num_of_each_trick = 30\n",
        "\n",
        "\n",
        "# #6 axes signals csv files transform into one jpg image\n",
        "\n",
        "# ########################################################\n",
        "\n",
        "# for trick in tricks:\n",
        "#     for i in range(num_of_each_trick):\n",
        "#         trick_signal = f'{trick} ({i+1}).csv'\n",
        "\n",
        "#         df = pd.read_csv(trick_signal)\n",
        "\n",
        "#         #add time-axe\n",
        "#         df[\"index\"] = np.arange(len(df))\n",
        "\n",
        "#         #one synthesized image\n",
        "#         fig = make_subplots(rows=len(axes), cols=1, shared_axes=True, vertical_spaceing=0.02)\n",
        "\n",
        "#         #make graph as grey_scale and delete legend, grid, ticklabel\n",
        "#         for j in range(len(axes)):\n",
        "#             fig.add_trace(go.Scatter(x = df[\"index\"], y = df.iloc[:,j], line=dict(color=\"#000000\"), showlegend=False), row=j+1, col=1)\n",
        "#         fig.update_layout(go.Layout(paper_bgcolor=\"#FFFFFF\", plot_bgcolor=\"#FFFFFF\"))\n",
        "#         fig.update_xaxes(showticklabels=False, showgrid=False)\n",
        "#         fig.update_yaxes(showticklabels=False, showgrid=False)\n",
        "\n",
        "#         #set graph scale\n",
        "#         for j in range(len(axes)):\n",
        "#             fig[\"layout\"][f\"yaxis{j+1}\"].update(range=[min[j], max[j]])\n",
        "\n",
        "#         #save as JPG img\n",
        "#         fig.write_image(f\"images/{trick} ({i+1}).jpg\")\n",
        "\n",
        "# ########################################################\n",
        "\n",
        "\n",
        "#Load img\n",
        "\n",
        "########################################################\n",
        "OLLIE_path = Path(\"images\")/\"OLLIE\" #Ollie\n",
        "PS_path = Path(\"images\")/\"PS\"       #Pop-Shuvit\n",
        "KF_path = Path (\"images\")/\"KF\"      #Kick-Flip\n",
        "FS180_path = Path(\"images\")/\"FS180\" #Frontside 180\n",
        "NFS_path = Path(\"images\")/\"NFS\"     #NollieFrontShuv\n",
        "\n",
        "paths = [OLLIE_path, PS_path, KF_path, FS180_path, NFS_path]\n",
        "\n",
        "target = \"*.jpg\"\n",
        "\n",
        "images = []\n",
        "labels = []\n",
        "\n",
        "new_width  = 224\n",
        "new_height = 224\n",
        "\n",
        "for i in range(len(paths)):\n",
        "    for img in paths[i].glob(target):\n",
        "\n",
        "        img = image.load_img(img)\n",
        "        img = img.resize((new_width, new_height), Image.ANTIALIAS)\n",
        "\n",
        "        image_array = image.img_to_array(img)\n",
        "\n",
        "        images.append(image_array)\n",
        "        labels.append(i)\n",
        "\n",
        "########################################################\n",
        "\n",
        "x_val = np.array(images)\n",
        "y_val = np.array(labels)\n",
        "\n",
        "x_val = preprocess_input(x_val)\n",
        "y_val = np_utils.to_categorical(y_val, len(tricks))\n",
        "\n",
        "########################################################\n",
        "\n",
        "########################################################\n",
        "\n",
        "pretrained_nn = ResNet101(weights=\"imagenet\", include_top=False, input_shape=(new_width, new_height, 3))\n",
        "print(\"MobileNet\")\n",
        "\n",
        "features_x_val = pretrained_nn.predict(x_val)\n",
        "features_flatten = features_x_val.reshape((features_x_val.shape[0], 7 * 7 * 2048))\n",
        "\n",
        "########################################################\n",
        "\n",
        "########################################################\n",
        "X_train,X_test,y_train,y_test = train_test_split(features_flatten, labels, test_size=1/3, random_state=312132, stratify=labels)\n",
        "X_val,X_test,y_val,y_test = train_test_split(X_test, y_test, test_size=0.5, random_state=312132, stratify=y_test)\n",
        "########################################################\n",
        "\n",
        "########################################################\n",
        "\n",
        "def print_result(results):\n",
        "    print('Best Param: {}\\n'.format(results.best_params_))\n",
        "\n",
        "svc = SVC()\n",
        "parameters = {\n",
        "    'kernel' : ['linear', 'rbf', 'poly'],\n",
        "    'gamma' : [0.1, 1, 10, 100],\n",
        "    'C' : [0.01, 0.1, 1, 10, 100, 1000],\n",
        "    'degree' : [0, 1, 2, 3, 4, 5]\n",
        "}\n",
        "\n",
        "cv = GridSearchCV(svc, parameters, cv=3)\n",
        "\n",
        "cv.fit(X_train, y_train)\n",
        "\n",
        "print_result(cv)\n",
        "\n",
        "cv.best_estimator_\n",
        "\n",
        "########################################################\n",
        "\n",
        "########################################################\n",
        "\n",
        "SVM = SVC(kernel='linear', C=0.01, gamma=0.1, degree=0)\n",
        "\n",
        "scores = cross_val_score(SVM, X_train, y_train, cv=3)\n",
        "AC = round(scores.mean(), 3)\n",
        "STDS = round(scores.std(), 3)\n",
        "print(AC, STDS)\n",
        "\n",
        "classifier = SVM.fit(X_train, y_train)\n",
        "\n",
        "print('           #############Train#############')\n",
        "y_pred_tr = SVM.predict(X_train)\n",
        "tr_acc = round(accuracy_score(y_train,y_pred_tr),5)\n",
        "print(classification_report(y_train,y_pred_tr))\n",
        "\n",
        "print('           #############Validate#############')\n",
        "y_pred_v = SVM.predict(X_val)\n",
        "v_acc = round(accuracy_score(y_val,y_pred_v),5)\n",
        "print(classification_report(y_val,y_pred_v))\n",
        "\n",
        "print('           #############Test#############')\n",
        "y_pred_ts = SVM.predict(X_test)\n",
        "ts_acc = round(accuracy_score(y_test,y_pred_ts),5)\n",
        "print(classification_report(y_test,y_pred_ts))\n",
        "\n",
        "np.set_printoptions(precision=2)\n",
        "\n",
        "# PLOT CONFUSION MATRIX\n",
        "titles_options = [(\"MobileNet-RAW-SVM - Confusion Matrix\", None),\n",
        "                  (\"MobileNet-RAW-SVM - Normalized Confusion Matrix\", 'true')]\n",
        "\n",
        "for title, normalize in titles_options:\n",
        "    disp = plot_confusion_matrix(classifier, X_test, y_test,\n",
        "                                 display_labels=tricks,\n",
        "                                 cmap=plt.cm.Blues,\n",
        "                                 normalize=normalize)\n",
        "    disp.ax_.set_title(title)\n",
        "\n",
        "    print(title)\n",
        "    print(disp.confusion_matrix)\n",
        "    plt.show()"
      ],
      "metadata": {
        "colab": {
          "base_uri": "https://localhost:8080/",
          "height": 1000
        },
        "id": "Oj4DCIgVSQ2o",
        "outputId": "f8f3d299-6f0c-48fc-d7f5-627ff596c5f3"
      },
      "execution_count": null,
      "outputs": [
        {
          "output_type": "stream",
          "name": "stdout",
          "text": [
            "MobileNet\n",
            "Best Param: {'C': 0.01, 'degree': 5, 'gamma': 0.1, 'kernel': 'poly'}\n",
            "\n",
            "0.85 0.042\n",
            "           #############Train#############\n",
            "              precision    recall  f1-score   support\n",
            "\n",
            "           0       1.00      1.00      1.00        20\n",
            "           1       1.00      1.00      1.00        20\n",
            "           2       1.00      1.00      1.00        20\n",
            "           3       1.00      1.00      1.00        20\n",
            "           4       1.00      1.00      1.00        20\n",
            "\n",
            "    accuracy                           1.00       100\n",
            "   macro avg       1.00      1.00      1.00       100\n",
            "weighted avg       1.00      1.00      1.00       100\n",
            "\n",
            "           #############Validate#############\n",
            "              precision    recall  f1-score   support\n",
            "\n",
            "           0       1.00      1.00      1.00         5\n",
            "           1       1.00      1.00      1.00         5\n",
            "           2       1.00      1.00      1.00         5\n",
            "           3       1.00      1.00      1.00         5\n",
            "           4       1.00      1.00      1.00         5\n",
            "\n",
            "    accuracy                           1.00        25\n",
            "   macro avg       1.00      1.00      1.00        25\n",
            "weighted avg       1.00      1.00      1.00        25\n",
            "\n",
            "           #############Test#############\n",
            "              precision    recall  f1-score   support\n",
            "\n",
            "           0       1.00      1.00      1.00         5\n",
            "           1       1.00      0.80      0.89         5\n",
            "           2       1.00      1.00      1.00         5\n",
            "           3       1.00      1.00      1.00         5\n",
            "           4       0.83      1.00      0.91         5\n",
            "\n",
            "    accuracy                           0.96        25\n",
            "   macro avg       0.97      0.96      0.96        25\n",
            "weighted avg       0.97      0.96      0.96        25\n",
            "\n"
          ]
        },
        {
          "output_type": "stream",
          "name": "stderr",
          "text": [
            "/usr/local/lib/python3.7/dist-packages/sklearn/utils/deprecation.py:87: FutureWarning: Function plot_confusion_matrix is deprecated; Function `plot_confusion_matrix` is deprecated in 1.0 and will be removed in 1.2. Use one of the class methods: ConfusionMatrixDisplay.from_predictions or ConfusionMatrixDisplay.from_estimator.\n",
            "  warnings.warn(msg, category=FutureWarning)\n"
          ]
        },
        {
          "output_type": "stream",
          "name": "stdout",
          "text": [
            "MobileNet-RAW-SVM - Confusion Matrix\n",
            "[[5 0 0 0 0]\n",
            " [0 4 0 0 1]\n",
            " [0 0 5 0 0]\n",
            " [0 0 0 5 0]\n",
            " [0 0 0 0 5]]\n"
          ]
        },
        {
          "output_type": "display_data",
          "data": {
            "text/plain": [
              "<Figure size 432x288 with 2 Axes>"
            ],
            "image/png": "[encoded data removed]"
          },
          "metadata": {
            "needs_background": "light"
          }
        },
        {
          "output_type": "stream",
          "name": "stderr",
          "text": [
            "/usr/local/lib/python3.7/dist-packages/sklearn/utils/deprecation.py:87: FutureWarning: Function plot_confusion_matrix is deprecated; Function `plot_confusion_matrix` is deprecated in 1.0 and will be removed in 1.2. Use one of the class methods: ConfusionMatrixDisplay.from_predictions or ConfusionMatrixDisplay.from_estimator.\n",
            "  warnings.warn(msg, category=FutureWarning)\n"
          ]
        },
        {
          "output_type": "stream",
          "name": "stdout",
          "text": [
            "MobileNet-RAW-SVM - Normalized Confusion Matrix\n",
            "[[1.  0.  0.  0.  0. ]\n",
            " [0.  0.8 0.  0.  0.2]\n",
            " [0.  0.  1.  0.  0. ]\n",
            " [0.  0.  0.  1.  0. ]\n",
            " [0.  0.  0.  0.  1. ]]\n"
          ]
        },
        {
          "output_type": "display_data",
          "data": {
            "text/plain": [
              "<Figure size 432x288 with 2 Axes>"
            ],
            "image/png": "[encoded data removed]"
          },
          "metadata": {
            "needs_background": "light"
          }
        }
      ]
    },
    {
      "cell_type": "code",
      "source": [
        "pip install torch"
      ],
      "metadata": {
        "colab": {
          "base_uri": "https://localhost:8080/"
        },
        "id": "Ib8LJ7IuzCXQ",
        "outputId": "bad8d93b-852e-4f96-d974-d3ed2c128701"
      },
      "execution_count": null,
      "outputs": [
        {
          "output_type": "stream",
          "name": "stdout",
          "text": [
            "Looking in indexes: https://pypi.org/simple, https://us-python.pkg.dev/colab-wheels/public/simple/\n",
            "Requirement already satisfied: torch in /usr/local/lib/python3.7/dist-packages (1.11.0+cu113)\n",
            "Requirement already satisfied: typing-extensions in /usr/local/lib/python3.7/dist-packages (from torch) (4.2.0)\n"
          ]
        }
      ]
    },
    {
      "cell_type": "code",
      "source": [
        "import torch\n",
        "import torch.nn as nn\n",
        "import torch.nn.functional as F\n",
        "\n",
        "class Net(nn.Module):\n",
        "    def __init__(self):\n",
        "      super(Net, self).__init__()\n",
        "      self.dropout1 = nn.Dropout2d(0.25)\n",
        "      self.dropout2 = nn.Dropout2d(0.5)\n",
        "      self.fc1 = nn.Linear(7*7*1024, 128)\n",
        "      self.fc2 = nn.Linear(128, 10)\n",
        "\n",
        "    # x는 데이터를 나타냅니다.\n",
        "    def forward(self, x):\n",
        "      x = self.fc1(x)\n",
        "      x = F.relu(x)\n",
        "      x = self.dropout2(x)\n",
        "      x = self.fc2(x)\n",
        "\n",
        "      # x에 softmax를 적용합니다.\n",
        "      output = F.log_softmax(x, dim=1)\n",
        "      return output"
      ],
      "metadata": {
        "id": "czbp-M1GzDIf"
      },
      "execution_count": null,
      "outputs": []
    },
    {
      "cell_type": "code",
      "source": [
        "# 임의의 28x28 이미지로 맞춰줍니다\n",
        "import torch\n",
        "import numpy as np\n",
        "\n",
        "\n",
        "a = np.array(X_train)\n",
        "b = torch.Tensor(a)\n",
        "my_nn = Net()\n",
        "y_pred_tr = my_nn(b)\n",
        "\n",
        "accuracy_score(y_train,y_pred_tr)\n"
      ],
      "metadata": {
        "colab": {
          "base_uri": "https://localhost:8080/",
          "height": 410
        },
        "id": "tDBpPSRrzQkB",
        "outputId": "b6e241d8-86f7-4ed2-dbca-b4379701c799"
      },
      "execution_count": null,
      "outputs": [
        {
          "output_type": "stream",
          "name": "stderr",
          "text": [
            "/usr/local/lib/python3.7/dist-packages/torch/nn/functional.py:1320: UserWarning: dropout2d: Received a 2-D input to dropout2d, which is deprecated and will result in an error in a future release. To retain the behavior and silence this warning, please use dropout instead. Note that dropout2d exists to provide channel-wise dropout on inputs with 2 spatial dimensions, a channel dimension, and an optional batch dimension (i.e. 3D or 4D inputs).\n",
            "  warnings.warn(warn_msg)\n"
          ]
        },
        {
          "output_type": "error",
          "ename": "RuntimeError",
          "evalue": "ignored",
          "traceback": [
            "\u001b[0;31m---------------------------------------------------------------------------\u001b[0m",
            "\u001b[0;31mRuntimeError\u001b[0m                              Traceback (most recent call last)",
            "\u001b[0;32m<ipython-input-75-b346197322cb>\u001b[0m in \u001b[0;36m<module>\u001b[0;34m()\u001b[0m\n\u001b[1;32m      9\u001b[0m \u001b[0my_pred_tr\u001b[0m \u001b[0;34m=\u001b[0m \u001b[0mmy_nn\u001b[0m\u001b[0;34m(\u001b[0m\u001b[0mb\u001b[0m\u001b[0;34m)\u001b[0m\u001b[0;34m\u001b[0m\u001b[0;34m\u001b[0m\u001b[0m\n\u001b[1;32m     10\u001b[0m \u001b[0;34m\u001b[0m\u001b[0m\n\u001b[0;32m---> 11\u001b[0;31m \u001b[0maccuracy_score\u001b[0m\u001b[0;34m(\u001b[0m\u001b[0my_train\u001b[0m\u001b[0;34m,\u001b[0m\u001b[0my_pred_tr\u001b[0m\u001b[0;34m)\u001b[0m\u001b[0;34m\u001b[0m\u001b[0;34m\u001b[0m\u001b[0m\n\u001b[0m",
            "\u001b[0;32m/usr/local/lib/python3.7/dist-packages/sklearn/metrics/_classification.py\u001b[0m in \u001b[0;36maccuracy_score\u001b[0;34m(y_true, y_pred, normalize, sample_weight)\u001b[0m\n\u001b[1;32m    209\u001b[0m \u001b[0;34m\u001b[0m\u001b[0m\n\u001b[1;32m    210\u001b[0m     \u001b[0;31m# Compute accuracy for each possible representation\u001b[0m\u001b[0;34m\u001b[0m\u001b[0;34m\u001b[0m\u001b[0;34m\u001b[0m\u001b[0m\n\u001b[0;32m--> 211\u001b[0;31m     \u001b[0my_type\u001b[0m\u001b[0;34m,\u001b[0m \u001b[0my_true\u001b[0m\u001b[0;34m,\u001b[0m \u001b[0my_pred\u001b[0m \u001b[0;34m=\u001b[0m \u001b[0m_check_targets\u001b[0m\u001b[0;34m(\u001b[0m\u001b[0my_true\u001b[0m\u001b[0;34m,\u001b[0m \u001b[0my_pred\u001b[0m\u001b[0;34m)\u001b[0m\u001b[0;34m\u001b[0m\u001b[0;34m\u001b[0m\u001b[0m\n\u001b[0m\u001b[1;32m    212\u001b[0m     \u001b[0mcheck_consistent_length\u001b[0m\u001b[0;34m(\u001b[0m\u001b[0my_true\u001b[0m\u001b[0;34m,\u001b[0m \u001b[0my_pred\u001b[0m\u001b[0;34m,\u001b[0m \u001b[0msample_weight\u001b[0m\u001b[0;34m)\u001b[0m\u001b[0;34m\u001b[0m\u001b[0;34m\u001b[0m\u001b[0m\n\u001b[1;32m    213\u001b[0m     \u001b[0;32mif\u001b[0m \u001b[0my_type\u001b[0m\u001b[0;34m.\u001b[0m\u001b[0mstartswith\u001b[0m\u001b[0;34m(\u001b[0m\u001b[0;34m\"multilabel\"\u001b[0m\u001b[0;34m)\u001b[0m\u001b[0;34m:\u001b[0m\u001b[0;34m\u001b[0m\u001b[0;34m\u001b[0m\u001b[0m\n",
            "\u001b[0;32m/usr/local/lib/python3.7/dist-packages/sklearn/metrics/_classification.py\u001b[0m in \u001b[0;36m_check_targets\u001b[0;34m(y_true, y_pred)\u001b[0m\n\u001b[1;32m     84\u001b[0m     \u001b[0mcheck_consistent_length\u001b[0m\u001b[0;34m(\u001b[0m\u001b[0my_true\u001b[0m\u001b[0;34m,\u001b[0m \u001b[0my_pred\u001b[0m\u001b[0;34m)\u001b[0m\u001b[0;34m\u001b[0m\u001b[0;34m\u001b[0m\u001b[0m\n\u001b[1;32m     85\u001b[0m     \u001b[0mtype_true\u001b[0m \u001b[0;34m=\u001b[0m \u001b[0mtype_of_target\u001b[0m\u001b[0;34m(\u001b[0m\u001b[0my_true\u001b[0m\u001b[0;34m)\u001b[0m\u001b[0;34m\u001b[0m\u001b[0;34m\u001b[0m\u001b[0m\n\u001b[0;32m---> 86\u001b[0;31m     \u001b[0mtype_pred\u001b[0m \u001b[0;34m=\u001b[0m \u001b[0mtype_of_target\u001b[0m\u001b[0;34m(\u001b[0m\u001b[0my_pred\u001b[0m\u001b[0;34m)\u001b[0m\u001b[0;34m\u001b[0m\u001b[0;34m\u001b[0m\u001b[0m\n\u001b[0m\u001b[1;32m     87\u001b[0m \u001b[0;34m\u001b[0m\u001b[0m\n\u001b[1;32m     88\u001b[0m     \u001b[0my_type\u001b[0m \u001b[0;34m=\u001b[0m \u001b[0;34m{\u001b[0m\u001b[0mtype_true\u001b[0m\u001b[0;34m,\u001b[0m \u001b[0mtype_pred\u001b[0m\u001b[0;34m}\u001b[0m\u001b[0;34m\u001b[0m\u001b[0;34m\u001b[0m\u001b[0m\n",
            "\u001b[0;32m/usr/local/lib/python3.7/dist-packages/sklearn/utils/multiclass.py\u001b[0m in \u001b[0;36mtype_of_target\u001b[0;34m(y)\u001b[0m\n\u001b[1;32m    276\u001b[0m         \u001b[0;32mraise\u001b[0m \u001b[0mValueError\u001b[0m\u001b[0;34m(\u001b[0m\u001b[0;34m\"y cannot be class 'SparseSeries' or 'SparseArray'\"\u001b[0m\u001b[0;34m)\u001b[0m\u001b[0;34m\u001b[0m\u001b[0;34m\u001b[0m\u001b[0m\n\u001b[1;32m    277\u001b[0m \u001b[0;34m\u001b[0m\u001b[0m\n\u001b[0;32m--> 278\u001b[0;31m     \u001b[0;32mif\u001b[0m \u001b[0mis_multilabel\u001b[0m\u001b[0;34m(\u001b[0m\u001b[0my\u001b[0m\u001b[0;34m)\u001b[0m\u001b[0;34m:\u001b[0m\u001b[0;34m\u001b[0m\u001b[0;34m\u001b[0m\u001b[0m\n\u001b[0m\u001b[1;32m    279\u001b[0m         \u001b[0;32mreturn\u001b[0m \u001b[0;34m\"multilabel-indicator\"\u001b[0m\u001b[0;34m\u001b[0m\u001b[0;34m\u001b[0m\u001b[0m\n\u001b[1;32m    280\u001b[0m \u001b[0;34m\u001b[0m\u001b[0m\n",
            "\u001b[0;32m/usr/local/lib/python3.7/dist-packages/sklearn/utils/multiclass.py\u001b[0m in \u001b[0;36mis_multilabel\u001b[0;34m(y)\u001b[0m\n\u001b[1;32m    148\u001b[0m             \u001b[0mwarnings\u001b[0m\u001b[0;34m.\u001b[0m\u001b[0msimplefilter\u001b[0m\u001b[0;34m(\u001b[0m\u001b[0;34m\"error\"\u001b[0m\u001b[0;34m,\u001b[0m \u001b[0mnp\u001b[0m\u001b[0;34m.\u001b[0m\u001b[0mVisibleDeprecationWarning\u001b[0m\u001b[0;34m)\u001b[0m\u001b[0;34m\u001b[0m\u001b[0;34m\u001b[0m\u001b[0m\n\u001b[1;32m    149\u001b[0m             \u001b[0;32mtry\u001b[0m\u001b[0;34m:\u001b[0m\u001b[0;34m\u001b[0m\u001b[0;34m\u001b[0m\u001b[0m\n\u001b[0;32m--> 150\u001b[0;31m                 \u001b[0my\u001b[0m \u001b[0;34m=\u001b[0m \u001b[0mnp\u001b[0m\u001b[0;34m.\u001b[0m\u001b[0masarray\u001b[0m\u001b[0;34m(\u001b[0m\u001b[0my\u001b[0m\u001b[0;34m)\u001b[0m\u001b[0;34m\u001b[0m\u001b[0;34m\u001b[0m\u001b[0m\n\u001b[0m\u001b[1;32m    151\u001b[0m             \u001b[0;32mexcept\u001b[0m \u001b[0mnp\u001b[0m\u001b[0;34m.\u001b[0m\u001b[0mVisibleDeprecationWarning\u001b[0m\u001b[0;34m:\u001b[0m\u001b[0;34m\u001b[0m\u001b[0;34m\u001b[0m\u001b[0m\n\u001b[1;32m    152\u001b[0m                 \u001b[0;31m# dtype=object should be provided explicitly for ragged arrays,\u001b[0m\u001b[0;34m\u001b[0m\u001b[0;34m\u001b[0m\u001b[0;34m\u001b[0m\u001b[0m\n",
            "\u001b[0;32m/usr/local/lib/python3.7/dist-packages/torch/_tensor.py\u001b[0m in \u001b[0;36m__array__\u001b[0;34m(self, dtype)\u001b[0m\n\u001b[1;32m    730\u001b[0m             \u001b[0;32mreturn\u001b[0m \u001b[0mhandle_torch_function\u001b[0m\u001b[0;34m(\u001b[0m\u001b[0mTensor\u001b[0m\u001b[0;34m.\u001b[0m\u001b[0m__array__\u001b[0m\u001b[0;34m,\u001b[0m \u001b[0;34m(\u001b[0m\u001b[0mself\u001b[0m\u001b[0;34m,\u001b[0m\u001b[0;34m)\u001b[0m\u001b[0;34m,\u001b[0m \u001b[0mself\u001b[0m\u001b[0;34m,\u001b[0m \u001b[0mdtype\u001b[0m\u001b[0;34m=\u001b[0m\u001b[0mdtype\u001b[0m\u001b[0;34m)\u001b[0m\u001b[0;34m\u001b[0m\u001b[0;34m\u001b[0m\u001b[0m\n\u001b[1;32m    731\u001b[0m         \u001b[0;32mif\u001b[0m \u001b[0mdtype\u001b[0m \u001b[0;32mis\u001b[0m \u001b[0;32mNone\u001b[0m\u001b[0;34m:\u001b[0m\u001b[0;34m\u001b[0m\u001b[0;34m\u001b[0m\u001b[0m\n\u001b[0;32m--> 732\u001b[0;31m             \u001b[0;32mreturn\u001b[0m \u001b[0mself\u001b[0m\u001b[0;34m.\u001b[0m\u001b[0mnumpy\u001b[0m\u001b[0;34m(\u001b[0m\u001b[0;34m)\u001b[0m\u001b[0;34m\u001b[0m\u001b[0;34m\u001b[0m\u001b[0m\n\u001b[0m\u001b[1;32m    733\u001b[0m         \u001b[0;32melse\u001b[0m\u001b[0;34m:\u001b[0m\u001b[0;34m\u001b[0m\u001b[0;34m\u001b[0m\u001b[0m\n\u001b[1;32m    734\u001b[0m             \u001b[0;32mreturn\u001b[0m \u001b[0mself\u001b[0m\u001b[0;34m.\u001b[0m\u001b[0mnumpy\u001b[0m\u001b[0;34m(\u001b[0m\u001b[0;34m)\u001b[0m\u001b[0;34m.\u001b[0m\u001b[0mastype\u001b[0m\u001b[0;34m(\u001b[0m\u001b[0mdtype\u001b[0m\u001b[0;34m,\u001b[0m \u001b[0mcopy\u001b[0m\u001b[0;34m=\u001b[0m\u001b[0;32mFalse\u001b[0m\u001b[0;34m)\u001b[0m\u001b[0;34m\u001b[0m\u001b[0;34m\u001b[0m\u001b[0m\n",
            "\u001b[0;31mRuntimeError\u001b[0m: Can't call numpy() on Tensor that requires grad. Use tensor.detach().numpy() instead."
          ]
        }
      ]
    },
    {
      "cell_type": "code",
      "source": [],
      "metadata": {
        "id": "7AgOCyBm3tOZ"
      },
      "execution_count": null,
      "outputs": []
    }
  ]
}